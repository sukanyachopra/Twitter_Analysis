{
  "nbformat": 4,
  "nbformat_minor": 0,
  "metadata": {
    "colab": {
      "provenance": []
    },
    "kernelspec": {
      "name": "python3",
      "display_name": "Python 3"
    },
    "language_info": {
      "name": "python"
    }
  },
  "cells": [
    {
      "cell_type": "markdown",
      "source": [
        "\n",
        "#**Twitter analysis of Top world companies and Indian Unicorns**\n",
        "\n",
        "\n"
      ],
      "metadata": {
        "id": "YKYlc7Yp4lGQ"
      }
    },
    {
      "cell_type": "markdown",
      "source": [
        "# Team 7:\n",
        "Sukanya Chopra\n",
        "\n",
        "---\n",
        "\n",
        "\n",
        "Devashree\n",
        "\n",
        "---\n",
        "\n",
        "\n",
        "Anushka Aggarwal"
      ],
      "metadata": {
        "id": "9Mr-GDZXt3Wu"
      }
    },
    {
      "cell_type": "code",
      "source": [
        "from google.colab import drive\n",
        "drive.mount('/content/drive')"
      ],
      "metadata": {
        "id": "LAujtuBG2wJM",
        "colab": {
          "base_uri": "https://localhost:8080/"
        },
        "outputId": "dc62c3b4-ff38-4733-b772-63e58b55fda2"
      },
      "execution_count": null,
      "outputs": [
        {
          "output_type": "stream",
          "name": "stdout",
          "text": [
            "Drive already mounted at /content/drive; to attempt to forcibly remount, call drive.mount(\"/content/drive\", force_remount=True).\n"
          ]
        }
      ]
    },
    {
      "cell_type": "markdown",
      "source": [
        "## ***Which companies are most active??//How often does a company posts??***\n",
        "\n",
        "\n",
        "\n",
        "\n"
      ],
      "metadata": {
        "id": "_lxRinPZrWtU"
      }
    },
    {
      "cell_type": "code",
      "source": [
        "import pandas as pd\n",
        "import numpy as np\n",
        "import matplotlib.pyplot as plt\n",
        "import os\n",
        "import tweepy\n",
        "from datetime import datetime,timezone\n",
        "import pytz\n",
        "from plotly.subplots import make_subplots\n",
        "import plotly.graph_objects as go\n",
        "import math\n",
        "import seaborn as sns"
      ],
      "metadata": {
        "id": "I-zEgfHlseCy"
      },
      "execution_count": null,
      "outputs": []
    },
    {
      "cell_type": "code",
      "source": [
        "topWorldCompanies=['Google','Microsoft','Tesla','Meta']\n",
        "indianUnicorns=['Byjus','Filpkart','Paytm','Zomato']"
      ],
      "metadata": {
        "id": "yfnOViW2WyuU"
      },
      "execution_count": null,
      "outputs": []
    },
    {
      "cell_type": "code",
      "source": [
        "'''def tweet_count(path):\n",
        "  normal=os.path.normpath(path)\n",
        "  count=0\n",
        "  df=pd.read_csv(normal)\n",
        "  num_rows=df.shape[0]\n",
        "  for i in range (0,num_rows):\n",
        "     if(df['Tweet_text'][i][0]!='@' and (df['Tweet_text'][i][0]!='R' and df['Tweet_text'][i][1]!='T')):\n",
        "       count+=1\n",
        "  return count\n",
        "\n",
        "def retweet_count(path):\n",
        "  normal=os.path.normpath(path)\n",
        "  count=0\n",
        "  df=pd.read_csv(normal)\n",
        "  num_rows=df.shape[0]\n",
        "  for i in range (0,num_rows):\n",
        "     if(df['Tweet_text'][i][0]=='R' and df['Tweet_text'][i][1]=='T'):\n",
        "       count+=1\n",
        "  return count\n",
        "\n",
        "def reply_count(path):\n",
        "   normal=os.path.normpath(path)\n",
        "   count=0\n",
        "   df=pd.read_csv(normal)\n",
        "   num_rows=df.shape[0]\n",
        "   for i in range (0,num_rows):\n",
        "     if(df['Tweet_text'][i][0]=='@'):\n",
        "       count+=1\n",
        "   return count\n",
        "\n",
        "def freq(count):\n",
        "  return count/7 '''"
      ],
      "metadata": {
        "id": "OFDMxoJGsCqA",
        "colab": {
          "base_uri": "https://localhost:8080/",
          "height": 105
        },
        "outputId": "0948c729-35c8-4f38-81c1-9cf71cd2133b"
      },
      "execution_count": null,
      "outputs": [
        {
          "output_type": "execute_result",
          "data": {
            "text/plain": [
              "\"def tweet_count(path):\\n  normal=os.path.normpath(path)\\n  count=0\\n  df=pd.read_csv(normal)\\n  num_rows=df.shape[0]\\n  for i in range (0,num_rows):\\n     if(df['Tweet_text'][i][0]!='@' and (df['Tweet_text'][i][0]!='R' and df['Tweet_text'][i][1]!='T')):\\n       count+=1\\n  return count  \\n\\ndef retweet_count(path):\\n  normal=os.path.normpath(path)\\n  count=0\\n  df=pd.read_csv(normal)\\n  num_rows=df.shape[0]\\n  for i in range (0,num_rows):\\n     if(df['Tweet_text'][i][0]=='R' and df['Tweet_text'][i][1]=='T'):\\n       count+=1\\n  return count\\n\\ndef reply_count(path):\\n   normal=os.path.normpath(path)\\n   count=0\\n   df=pd.read_csv(normal)\\n   num_rows=df.shape[0]\\n   for i in range (0,num_rows):\\n     if(df['Tweet_text'][i][0]=='@'):\\n       count+=1\\n   return count\\n\\ndef freq(count):\\n  return count/7 \""
            ],
            "application/vnd.google.colaboratory.intrinsic+json": {
              "type": "string"
            }
          },
          "metadata": {},
          "execution_count": 35
        }
      ]
    },
    {
      "cell_type": "code",
      "source": [
        "def tweet_count(path):\n",
        "  normal=os.path.normpath(path)\n",
        "  count=0\n",
        "  df=pd.read_csv(normal)\n",
        "  num_rows=df.shape[0]\n",
        "  for i in range (0,num_rows):\n",
        "     if(df['Tweet_text'][i][0]!='@' and (df['Tweet_text'][i][0]!='R' and df['Tweet_text'][i][1]!='T')):\n",
        "       count+=1\n",
        "  if(count==0):\n",
        "    return count\n",
        "  else:\n",
        "    return math.log(count)\n",
        "\n",
        "def retweet_count(path):\n",
        "  normal=os.path.normpath(path)\n",
        "  count=0\n",
        "  df=pd.read_csv(normal)\n",
        "  num_rows=df.shape[0]\n",
        "  for i in range (0,num_rows):\n",
        "     if(df['Tweet_text'][i][0]=='R' and df['Tweet_text'][i][1]=='T'):\n",
        "       count+=1\n",
        "  if(count==0):\n",
        "    return count\n",
        "  else:\n",
        "    return math.log(count)\n",
        "\n",
        "def reply_count(path):\n",
        "   normal=os.path.normpath(path)\n",
        "   count=0\n",
        "   df=pd.read_csv(normal)\n",
        "   num_rows=df.shape[0]\n",
        "   for i in range (0,num_rows):\n",
        "     if(df['Tweet_text'][i][0]=='@'):\n",
        "       count+=1\n",
        "   if(count==0):\n",
        "    return count\n",
        "   else:\n",
        "    return math.log(count)\n",
        "\n",
        "def freq(count):\n",
        "  return count/7"
      ],
      "metadata": {
        "id": "_bwCMRbLkMhI"
      },
      "execution_count": null,
      "outputs": []
    },
    {
      "cell_type": "code",
      "execution_count": null,
      "metadata": {
        "id": "lKnlHEvi7d8K"
      },
      "outputs": [],
      "source": [
        "\n",
        "tw_google=tweet_count(\"/content/drive/MyDrive/ACM/google_tweets.csv\")\n",
        "fq_tw_google=freq(tw_google)\n",
        "rt_google=retweet_count(\"/content/drive/MyDrive/ACM/google_tweets.csv\")\n",
        "fq_rt_google=freq(rt_google)\n",
        "rp_google=reply_count(\"/content/drive/MyDrive/ACM/google_tweets.csv\")\n",
        "fq_rp_google=freq(rp_google)"
      ]
    },
    {
      "cell_type": "code",
      "source": [
        "tw_meta=tweet_count(\"/content/drive/MyDrive/ACM/meta_tweets.csv\")\n",
        "fq_tw_meta=freq(tw_meta)\n",
        "rt_meta=retweet_count(\"/content/drive/MyDrive/ACM/meta_tweets.csv\")\n",
        "fq_rt_meta=freq(rt_meta)\n",
        "rp_meta=reply_count(\"/content/drive/MyDrive/ACM/meta_tweets.csv\")\n",
        "fq_rp_meta=freq(rp_meta)"
      ],
      "metadata": {
        "id": "gZ2ug--39A-8"
      },
      "execution_count": null,
      "outputs": []
    },
    {
      "cell_type": "code",
      "source": [
        "tw_microsoft=tweet_count(\"/content/drive/MyDrive/ACM/microsoft_tweets.csv\")\n",
        "fq_tw_microsoft=freq(tw_microsoft)\n",
        "rt_microsoft=retweet_count(\"/content/drive/MyDrive/ACM/microsoft_tweets.csv\")\n",
        "fq_rt_microsoft=freq(rt_microsoft)\n",
        "rp_microsoft=reply_count(\"/content/drive/MyDrive/ACM/microsoft_tweets.csv\")\n",
        "fq_rp_microsoft=freq(rp_microsoft)"
      ],
      "metadata": {
        "id": "v90esgx28Qkx"
      },
      "execution_count": null,
      "outputs": []
    },
    {
      "cell_type": "code",
      "source": [
        "tw_tesla=tweet_count(\"/content/drive/MyDrive/ACM/tesla_tweets.csv\")\n",
        "fq_tw_tesla=freq(tw_tesla)\n",
        "rt_tesla=retweet_count(\"/content/drive/MyDrive/ACM/tesla_tweets.csv\")\n",
        "fq_rt_tesla=freq(rt_tesla)\n",
        "rp_tesla=reply_count(\"/content/drive/MyDrive/ACM/tesla_tweets.csv\")\n",
        "fq_rp_tesla=freq(rp_tesla)"
      ],
      "metadata": {
        "id": "O9zYCjyY9AYq"
      },
      "execution_count": null,
      "outputs": []
    },
    {
      "cell_type": "markdown",
      "source": [
        "Unicorn companies"
      ],
      "metadata": {
        "id": "Q_jkMnvk-dzu"
      }
    },
    {
      "cell_type": "code",
      "source": [
        "tw_byjus=tweet_count(\"/content/drive/MyDrive/ACM/byjus_tweets.csv\")\n",
        "fq_tw_byjus=freq(tw_byjus)\n",
        "rt_byjus=retweet_count(\"/content/drive/MyDrive/ACM/byjus_tweets.csv\")\n",
        "fq_rt_byjus=freq(rt_byjus)\n",
        "rp_byjus=reply_count(\"/content/drive/MyDrive/ACM/byjus_tweets.csv\")\n",
        "fq_rp_byjus=freq(rp_byjus)"
      ],
      "metadata": {
        "id": "0ymj2p33-dHu"
      },
      "execution_count": null,
      "outputs": []
    },
    {
      "cell_type": "code",
      "source": [
        "tw_flipkart=tweet_count(\"/content/drive/MyDrive/ACM/flipkart_tweets.csv\")\n",
        "fq_tw_flipkart=freq(tw_flipkart)\n",
        "rt_flipkart=retweet_count(\"/content/drive/MyDrive/ACM/flipkart_tweets.csv\")\n",
        "fq_rt_flipkart=freq(rt_flipkart)\n",
        "rp_flipkart=reply_count(\"/content/drive/MyDrive/ACM/flipkart_tweets.csv\")\n",
        "fq_rp_flipkart=freq(rp_flipkart)"
      ],
      "metadata": {
        "id": "Um3D65zT-uRZ"
      },
      "execution_count": null,
      "outputs": []
    },
    {
      "cell_type": "code",
      "source": [
        "tw_paytm=tweet_count(\"/content/drive/MyDrive/ACM/paytm_tweets.csv\")\n",
        "fq_tw_paytm=freq(tw_paytm)\n",
        "rt_paytm=retweet_count(\"/content/drive/MyDrive/ACM/paytm_tweets.csv\")\n",
        "fq_rt_paytm=freq(rt_paytm)\n",
        "rp_paytm=reply_count(\"/content/drive/MyDrive/ACM/paytm_tweets.csv\")\n",
        "fq_rp_paytm=freq(rp_paytm)"
      ],
      "metadata": {
        "id": "UqBI27MN-6EU"
      },
      "execution_count": null,
      "outputs": []
    },
    {
      "cell_type": "code",
      "source": [
        "tw_zomato=tweet_count(\"/content/drive/MyDrive/ACM/zomato_tweets.csv\")\n",
        "fq_tw_zomato=freq(tw_zomato)\n",
        "rt_zomato=retweet_count(\"/content/drive/MyDrive/ACM/zomato_tweets.csv\")\n",
        "fq_rt_zomato=freq(rt_zomato)\n",
        "rp_zomato=reply_count(\"/content/drive/MyDrive/ACM/zomato_tweets.csv\")\n",
        "fq_rp_zomato=freq(rp_zomato)"
      ],
      "metadata": {
        "id": "zvGDIJXT_HZ8"
      },
      "execution_count": null,
      "outputs": []
    },
    {
      "cell_type": "markdown",
      "source": [
        "# **Tweets**"
      ],
      "metadata": {
        "id": "9r__X54FrnxR"
      }
    },
    {
      "cell_type": "code",
      "source": [
        "freq_world_tweet=np.array([fq_tw_google,fq_tw_microsoft,fq_tw_tesla,fq_tw_meta])\n",
        "plt.bar(['Google','Microsoft','Tesla','Meta'],freq_world_tweet,edgecolor='white',width=1)\n",
        "plt.xlabel('Top world companies')\n",
        "plt.ylabel('Frequency of posting')\n",
        "plt.show\n"
      ],
      "metadata": {
        "colab": {
          "base_uri": "https://localhost:8080/",
          "height": 297
        },
        "id": "KW0AQ_5t_0lE",
        "outputId": "1c140e5c-17ea-4c8e-b019-4363198a61cf"
      },
      "execution_count": null,
      "outputs": [
        {
          "output_type": "execute_result",
          "data": {
            "text/plain": [
              "<function matplotlib.pyplot.show(*args, **kw)>"
            ]
          },
          "metadata": {},
          "execution_count": 45
        },
        {
          "output_type": "display_data",
          "data": {
            "text/plain": [
              "<Figure size 432x288 with 1 Axes>"
            ],
            "image/png": "[encoded data removed]"
          },
          "metadata": {
            "needs_background": "light"
          }
        }
      ]
    },
    {
      "cell_type": "code",
      "source": [
        "fig = make_subplots(\n",
        "    rows=1, cols=1,\n",
        "    subplot_titles=(\"\"))\n",
        "freq_world_tweet=np.array([fq_tw_google,fq_tw_microsoft,fq_tw_tesla,fq_tw_meta])\n",
        "user=['Google','Microsoft','Tesla','Meta']\n",
        "fig.add_trace(go.Bar(x=user,y=freq_world_tweet, text=\"frequency of posting\",textposition='outside',showlegend=False,\n",
        "          marker=dict(color=['#d5a036', '#1984c5']*2,line=dict(width=1.5, color='#000000'), opacity=0.9)),row=1, col=1)\n",
        "\n",
        "fig.update_xaxes(showline=True, linewidth=1, linecolor='black')\n",
        "\n",
        "fig.show()"
      ],
      "metadata": {
        "colab": {
          "base_uri": "https://localhost:8080/",
          "height": 542
        },
        "id": "IfisKqWgAw0W",
        "outputId": "3c68e747-4545-4791-a114-166072335420"
      },
      "execution_count": null,
      "outputs": [
        {
          "output_type": "display_data",
          "data": {
            "text/html": [
              "<html>\n",
              "<head><meta charset=\"utf-8\" /></head>\n",
              "<body>\n",
              "    <div>            <script src=\"https://cdnjs.cloudflare.com/ajax/libs/mathjax/2.7.5/MathJax.js?config=TeX-AMS-MML_SVG\"></script><script type=\"text/javascript\">if (window.MathJax) {MathJax.Hub.Config({SVG: {font: \"STIX-Web\"}});}</script>                <script type=\"text/javascript\">window.PlotlyConfig = {MathJaxConfig: 'local'};</script>\n",
              "        <script src=\"https://cdn.plot.ly/plotly-2.8.3.min.js\"></script>                <div id=\"be8ed153-8a94-470d-95d8-16aa1a1a5093\" class=\"plotly-graph-div\" style=\"height:525px; width:100%;\"></div>            <script type=\"text/javascript\">                                    window.PLOTLYENV=window.PLOTLYENV || {};                                    if (document.getElementById(\"be8ed153-8a94-470d-95d8-16aa1a1a5093\")) {                    Plotly.newPlot(                        \"be8ed153-8a94-470d-95d8-16aa1a1a5093\",                        [{\"marker\":{\"color\":[\"#d5a036\",\"#1984c5\",\"#d5a036\",\"#1984c5\"],\"line\":{\"color\":\"#000000\",\"width\":1.5},\"opacity\":0.9},\"showlegend\":false,\"text\":\"frequency of posting\",\"textposition\":\"outside\",\"x\":[\"Google\",\"Microsoft\",\"Tesla\",\"Meta\"],\"y\":[0.0,0.3868643144431729,0.15694461266687282,0.09902102579427789],\"type\":\"bar\",\"xaxis\":\"x\",\"yaxis\":\"y\"}],                        {\"template\":{\"data\":{\"bar\":[{\"error_x\":{\"color\":\"#2a3f5f\"},\"error_y\":{\"color\":\"#2a3f5f\"},\"marker\":{\"line\":{\"color\":\"#E5ECF6\",\"width\":0.5},\"pattern\":{\"fillmode\":\"overlay\",\"size\":10,\"solidity\":0.2}},\"type\":\"bar\"}],\"barpolar\":[{\"marker\":{\"line\":{\"color\":\"#E5ECF6\",\"width\":0.5},\"pattern\":{\"fillmode\":\"overlay\",\"size\":10,\"solidity\":0.2}},\"type\":\"barpolar\"}],\"carpet\":[{\"aaxis\":{\"endlinecolor\":\"#2a3f5f\",\"gridcolor\":\"white\",\"linecolor\":\"white\",\"minorgridcolor\":\"white\",\"startlinecolor\":\"#2a3f5f\"},\"baxis\":{\"endlinecolor\":\"#2a3f5f\",\"gridcolor\":\"white\",\"linecolor\":\"white\",\"minorgridcolor\":\"white\",\"startlinecolor\":\"#2a3f5f\"},\"type\":\"carpet\"}],\"choropleth\":[{\"colorbar\":{\"outlinewidth\":0,\"ticks\":\"\"},\"type\":\"choropleth\"}],\"contour\":[{\"colorbar\":{\"outlinewidth\":0,\"ticks\":\"\"},\"colorscale\":[[0.0,\"#0d0887\"],[0.1111111111111111,\"#46039f\"],[0.2222222222222222,\"#7201a8\"],[0.3333333333333333,\"#9c179e\"],[0.4444444444444444,\"#bd3786\"],[0.5555555555555556,\"#d8576b\"],[0.6666666666666666,\"#ed7953\"],[0.7777777777777778,\"#fb9f3a\"],[0.8888888888888888,\"#fdca26\"],[1.0,\"#f0f921\"]],\"type\":\"contour\"}],\"contourcarpet\":[{\"colorbar\":{\"outlinewidth\":0,\"ticks\":\"\"},\"type\":\"contourcarpet\"}],\"heatmap\":[{\"colorbar\":{\"outlinewidth\":0,\"ticks\":\"\"},\"colorscale\":[[0.0,\"#0d0887\"],[0.1111111111111111,\"#46039f\"],[0.2222222222222222,\"#7201a8\"],[0.3333333333333333,\"#9c179e\"],[0.4444444444444444,\"#bd3786\"],[0.5555555555555556,\"#d8576b\"],[0.6666666666666666,\"#ed7953\"],[0.7777777777777778,\"#fb9f3a\"],[0.8888888888888888,\"#fdca26\"],[1.0,\"#f0f921\"]],\"type\":\"heatmap\"}],\"heatmapgl\":[{\"colorbar\":{\"outlinewidth\":0,\"ticks\":\"\"},\"colorscale\":[[0.0,\"#0d0887\"],[0.1111111111111111,\"#46039f\"],[0.2222222222222222,\"#7201a8\"],[0.3333333333333333,\"#9c179e\"],[0.4444444444444444,\"#bd3786\"],[0.5555555555555556,\"#d8576b\"],[0.6666666666666666,\"#ed7953\"],[0.7777777777777778,\"#fb9f3a\"],[0.8888888888888888,\"#fdca26\"],[1.0,\"#f0f921\"]],\"type\":\"heatmapgl\"}],\"histogram\":[{\"marker\":{\"pattern\":{\"fillmode\":\"overlay\",\"size\":10,\"solidity\":0.2}},\"type\":\"histogram\"}],\"histogram2d\":[{\"colorbar\":{\"outlinewidth\":0,\"ticks\":\"\"},\"colorscale\":[[0.0,\"#0d0887\"],[0.1111111111111111,\"#46039f\"],[0.2222222222222222,\"#7201a8\"],[0.3333333333333333,\"#9c179e\"],[0.4444444444444444,\"#bd3786\"],[0.5555555555555556,\"#d8576b\"],[0.6666666666666666,\"#ed7953\"],[0.7777777777777778,\"#fb9f3a\"],[0.8888888888888888,\"#fdca26\"],[1.0,\"#f0f921\"]],\"type\":\"histogram2d\"}],\"histogram2dcontour\":[{\"colorbar\":{\"outlinewidth\":0,\"ticks\":\"\"},\"colorscale\":[[0.0,\"#0d0887\"],[0.1111111111111111,\"#46039f\"],[0.2222222222222222,\"#7201a8\"],[0.3333333333333333,\"#9c179e\"],[0.4444444444444444,\"#bd3786\"],[0.5555555555555556,\"#d8576b\"],[0.6666666666666666,\"#ed7953\"],[0.7777777777777778,\"#fb9f3a\"],[0.8888888888888888,\"#fdca26\"],[1.0,\"#f0f921\"]],\"type\":\"histogram2dcontour\"}],\"mesh3d\":[{\"colorbar\":{\"outlinewidth\":0,\"ticks\":\"\"},\"type\":\"mesh3d\"}],\"parcoords\":[{\"line\":{\"colorbar\":{\"outlinewidth\":0,\"ticks\":\"\"}},\"type\":\"parcoords\"}],\"pie\":[{\"automargin\":true,\"type\":\"pie\"}],\"scatter\":[{\"marker\":{\"colorbar\":{\"outlinewidth\":0,\"ticks\":\"\"}},\"type\":\"scatter\"}],\"scatter3d\":[{\"line\":{\"colorbar\":{\"outlinewidth\":0,\"ticks\":\"\"}},\"marker\":{\"colorbar\":{\"outlinewidth\":0,\"ticks\":\"\"}},\"type\":\"scatter3d\"}],\"scattercarpet\":[{\"marker\":{\"colorbar\":{\"outlinewidth\":0,\"ticks\":\"\"}},\"type\":\"scattercarpet\"}],\"scattergeo\":[{\"marker\":{\"colorbar\":{\"outlinewidth\":0,\"ticks\":\"\"}},\"type\":\"scattergeo\"}],\"scattergl\":[{\"marker\":{\"colorbar\":{\"outlinewidth\":0,\"ticks\":\"\"}},\"type\":\"scattergl\"}],\"scattermapbox\":[{\"marker\":{\"colorbar\":{\"outlinewidth\":0,\"ticks\":\"\"}},\"type\":\"scattermapbox\"}],\"scatterpolar\":[{\"marker\":{\"colorbar\":{\"outlinewidth\":0,\"ticks\":\"\"}},\"type\":\"scatterpolar\"}],\"scatterpolargl\":[{\"marker\":{\"colorbar\":{\"outlinewidth\":0,\"ticks\":\"\"}},\"type\":\"scatterpolargl\"}],\"scatterternary\":[{\"marker\":{\"colorbar\":{\"outlinewidth\":0,\"ticks\":\"\"}},\"type\":\"scatterternary\"}],\"surface\":[{\"colorbar\":{\"outlinewidth\":0,\"ticks\":\"\"},\"colorscale\":[[0.0,\"#0d0887\"],[0.1111111111111111,\"#46039f\"],[0.2222222222222222,\"#7201a8\"],[0.3333333333333333,\"#9c179e\"],[0.4444444444444444,\"#bd3786\"],[0.5555555555555556,\"#d8576b\"],[0.6666666666666666,\"#ed7953\"],[0.7777777777777778,\"#fb9f3a\"],[0.8888888888888888,\"#fdca26\"],[1.0,\"#f0f921\"]],\"type\":\"surface\"}],\"table\":[{\"cells\":{\"fill\":{\"color\":\"#EBF0F8\"},\"line\":{\"color\":\"white\"}},\"header\":{\"fill\":{\"color\":\"#C8D4E3\"},\"line\":{\"color\":\"white\"}},\"type\":\"table\"}]},\"layout\":{\"annotationdefaults\":{\"arrowcolor\":\"#2a3f5f\",\"arrowhead\":0,\"arrowwidth\":1},\"autotypenumbers\":\"strict\",\"coloraxis\":{\"colorbar\":{\"outlinewidth\":0,\"ticks\":\"\"}},\"colorscale\":{\"diverging\":[[0,\"#8e0152\"],[0.1,\"#c51b7d\"],[0.2,\"#de77ae\"],[0.3,\"#f1b6da\"],[0.4,\"#fde0ef\"],[0.5,\"#f7f7f7\"],[0.6,\"#e6f5d0\"],[0.7,\"#b8e186\"],[0.8,\"#7fbc41\"],[0.9,\"#4d9221\"],[1,\"#276419\"]],\"sequential\":[[0.0,\"#0d0887\"],[0.1111111111111111,\"#46039f\"],[0.2222222222222222,\"#7201a8\"],[0.3333333333333333,\"#9c179e\"],[0.4444444444444444,\"#bd3786\"],[0.5555555555555556,\"#d8576b\"],[0.6666666666666666,\"#ed7953\"],[0.7777777777777778,\"#fb9f3a\"],[0.8888888888888888,\"#fdca26\"],[1.0,\"#f0f921\"]],\"sequentialminus\":[[0.0,\"#0d0887\"],[0.1111111111111111,\"#46039f\"],[0.2222222222222222,\"#7201a8\"],[0.3333333333333333,\"#9c179e\"],[0.4444444444444444,\"#bd3786\"],[0.5555555555555556,\"#d8576b\"],[0.6666666666666666,\"#ed7953\"],[0.7777777777777778,\"#fb9f3a\"],[0.8888888888888888,\"#fdca26\"],[1.0,\"#f0f921\"]]},\"colorway\":[\"#636efa\",\"#EF553B\",\"#00cc96\",\"#ab63fa\",\"#FFA15A\",\"#19d3f3\",\"#FF6692\",\"#B6E880\",\"#FF97FF\",\"#FECB52\"],\"font\":{\"color\":\"#2a3f5f\"},\"geo\":{\"bgcolor\":\"white\",\"lakecolor\":\"white\",\"landcolor\":\"#E5ECF6\",\"showlakes\":true,\"showland\":true,\"subunitcolor\":\"white\"},\"hoverlabel\":{\"align\":\"left\"},\"hovermode\":\"closest\",\"mapbox\":{\"style\":\"light\"},\"paper_bgcolor\":\"white\",\"plot_bgcolor\":\"#E5ECF6\",\"polar\":{\"angularaxis\":{\"gridcolor\":\"white\",\"linecolor\":\"white\",\"ticks\":\"\"},\"bgcolor\":\"#E5ECF6\",\"radialaxis\":{\"gridcolor\":\"white\",\"linecolor\":\"white\",\"ticks\":\"\"}},\"scene\":{\"xaxis\":{\"backgroundcolor\":\"#E5ECF6\",\"gridcolor\":\"white\",\"gridwidth\":2,\"linecolor\":\"white\",\"showbackground\":true,\"ticks\":\"\",\"zerolinecolor\":\"white\"},\"yaxis\":{\"backgroundcolor\":\"#E5ECF6\",\"gridcolor\":\"white\",\"gridwidth\":2,\"linecolor\":\"white\",\"showbackground\":true,\"ticks\":\"\",\"zerolinecolor\":\"white\"},\"zaxis\":{\"backgroundcolor\":\"#E5ECF6\",\"gridcolor\":\"white\",\"gridwidth\":2,\"linecolor\":\"white\",\"showbackground\":true,\"ticks\":\"\",\"zerolinecolor\":\"white\"}},\"shapedefaults\":{\"line\":{\"color\":\"#2a3f5f\"}},\"ternary\":{\"aaxis\":{\"gridcolor\":\"white\",\"linecolor\":\"white\",\"ticks\":\"\"},\"baxis\":{\"gridcolor\":\"white\",\"linecolor\":\"white\",\"ticks\":\"\"},\"bgcolor\":\"#E5ECF6\",\"caxis\":{\"gridcolor\":\"white\",\"linecolor\":\"white\",\"ticks\":\"\"}},\"title\":{\"x\":0.05},\"xaxis\":{\"automargin\":true,\"gridcolor\":\"white\",\"linecolor\":\"white\",\"ticks\":\"\",\"title\":{\"standoff\":15},\"zerolinecolor\":\"white\",\"zerolinewidth\":2},\"yaxis\":{\"automargin\":true,\"gridcolor\":\"white\",\"linecolor\":\"white\",\"ticks\":\"\",\"title\":{\"standoff\":15},\"zerolinecolor\":\"white\",\"zerolinewidth\":2}}},\"xaxis\":{\"anchor\":\"y\",\"domain\":[0.0,1.0],\"showline\":true,\"linewidth\":1,\"linecolor\":\"black\"},\"yaxis\":{\"anchor\":\"x\",\"domain\":[0.0,1.0]}},                        {\"responsive\": true}                    ).then(function(){\n",
              "                            \n",
              "var gd = document.getElementById('be8ed153-8a94-470d-95d8-16aa1a1a5093');\n",
              "var x = new MutationObserver(function (mutations, observer) {{\n",
              "        var display = window.getComputedStyle(gd).display;\n",
              "        if (!display || display === 'none') {{\n",
              "            console.log([gd, 'removed!']);\n",
              "            Plotly.purge(gd);\n",
              "            observer.disconnect();\n",
              "        }}\n",
              "}});\n",
              "\n",
              "// Listen for the removal of the full notebook cells\n",
              "var notebookContainer = gd.closest('#notebook-container');\n",
              "if (notebookContainer) {{\n",
              "    x.observe(notebookContainer, {childList: true});\n",
              "}}\n",
              "\n",
              "// Listen for the clearing of the current output cell\n",
              "var outputEl = gd.closest('.output');\n",
              "if (outputEl) {{\n",
              "    x.observe(outputEl, {childList: true});\n",
              "}}\n",
              "\n",
              "                        })                };                            </script>        </div>\n",
              "</body>\n",
              "</html>"
            ]
          },
          "metadata": {}
        }
      ]
    },
    {
      "cell_type": "markdown",
      "source": [
        "Out of the Top world companies, Microsoft tweets the highest.Other three companies posts very much less frequently."
      ],
      "metadata": {
        "id": "IPujmhSpXQrK"
      }
    },
    {
      "cell_type": "code",
      "source": [
        "freq_indian_tweet=np.array([fq_tw_byjus,fq_tw_flipkart,fq_tw_paytm,fq_tw_zomato])\n",
        "plt.bar(['Byjus','Flipkart','Paytm','Zomato'],freq_indian_tweet,color='pink',edgecolor='black',width=1)\n",
        "plt.xlabel('Indian Unicorn companies')\n",
        "plt.ylabel('Frequency of posting')\n",
        "plt.show"
      ],
      "metadata": {
        "colab": {
          "base_uri": "https://localhost:8080/",
          "height": 296
        },
        "id": "V4aUUS-bBRzw",
        "outputId": "77227767-fc49-46b7-edc3-879a4c8c355d"
      },
      "execution_count": null,
      "outputs": [
        {
          "output_type": "execute_result",
          "data": {
            "text/plain": [
              "<function matplotlib.pyplot.show(*args, **kw)>"
            ]
          },
          "metadata": {},
          "execution_count": 47
        },
        {
          "output_type": "display_data",
          "data": {
            "text/plain": [
              "<Figure size 432x288 with 1 Axes>"
            ],
            "image/png": "[encoded data removed]"
          },
          "metadata": {
            "needs_background": "light"
          }
        }
      ]
    },
    {
      "cell_type": "code",
      "source": [
        "fig = make_subplots(\n",
        "    rows=1, cols=1,\n",
        "    subplot_titles=(\"\"))\n",
        "freq_indian_tweet=np.array([fq_tw_byjus,fq_tw_flipkart,fq_tw_paytm,fq_tw_zomato])\n",
        "user=['Byjus','Flipkart','Paytm','Zomato']\n",
        "fig.add_trace(go.Bar(x=user,y=freq_indian_tweet, text=\"frequency of posting\",textposition='outside',showlegend=False,\n",
        "          marker=dict(color=['#d5a036', '#1984c5']*2,line=dict(width=1.5, color='#000000'), opacity=0.9)),row=1, col=1)\n",
        "\n",
        "fig.update_xaxes(showline=True, linewidth=1, linecolor='black')\n",
        "\n",
        "fig.show()"
      ],
      "metadata": {
        "colab": {
          "base_uri": "https://localhost:8080/",
          "height": 542
        },
        "id": "aE5cgG4FEz5T",
        "outputId": "921ad04b-d572-4577-a887-aeec9d3e9427"
      },
      "execution_count": null,
      "outputs": [
        {
          "output_type": "display_data",
          "data": {
            "text/html": [
              "<html>\n",
              "<head><meta charset=\"utf-8\" /></head>\n",
              "<body>\n",
              "    <div>            <script src=\"https://cdnjs.cloudflare.com/ajax/libs/mathjax/2.7.5/MathJax.js?config=TeX-AMS-MML_SVG\"></script><script type=\"text/javascript\">if (window.MathJax) {MathJax.Hub.Config({SVG: {font: \"STIX-Web\"}});}</script>                <script type=\"text/javascript\">window.PlotlyConfig = {MathJaxConfig: 'local'};</script>\n",
              "        <script src=\"https://cdn.plot.ly/plotly-2.8.3.min.js\"></script>                <div id=\"434929b5-64d3-4ae2-acf7-a6dade51045e\" class=\"plotly-graph-div\" style=\"height:525px; width:100%;\"></div>            <script type=\"text/javascript\">                                    window.PLOTLYENV=window.PLOTLYENV || {};                                    if (document.getElementById(\"434929b5-64d3-4ae2-acf7-a6dade51045e\")) {                    Plotly.newPlot(                        \"434929b5-64d3-4ae2-acf7-a6dade51045e\",                        [{\"marker\":{\"color\":[\"#d5a036\",\"#1984c5\",\"#d5a036\",\"#1984c5\"],\"line\":{\"color\":\"#000000\",\"width\":1.5},\"opacity\":0.9},\"showlegend\":false,\"text\":\"frequency of posting\",\"textposition\":\"outside\",\"x\":[\"Byjus\",\"Flipkart\",\"Paytm\",\"Zomato\"],\"y\":[0.31388922533374564,0.37700818994503693,0.32894072757057796,0.15694461266687282],\"type\":\"bar\",\"xaxis\":\"x\",\"yaxis\":\"y\"}],                        {\"template\":{\"data\":{\"bar\":[{\"error_x\":{\"color\":\"#2a3f5f\"},\"error_y\":{\"color\":\"#2a3f5f\"},\"marker\":{\"line\":{\"color\":\"#E5ECF6\",\"width\":0.5},\"pattern\":{\"fillmode\":\"overlay\",\"size\":10,\"solidity\":0.2}},\"type\":\"bar\"}],\"barpolar\":[{\"marker\":{\"line\":{\"color\":\"#E5ECF6\",\"width\":0.5},\"pattern\":{\"fillmode\":\"overlay\",\"size\":10,\"solidity\":0.2}},\"type\":\"barpolar\"}],\"carpet\":[{\"aaxis\":{\"endlinecolor\":\"#2a3f5f\",\"gridcolor\":\"white\",\"linecolor\":\"white\",\"minorgridcolor\":\"white\",\"startlinecolor\":\"#2a3f5f\"},\"baxis\":{\"endlinecolor\":\"#2a3f5f\",\"gridcolor\":\"white\",\"linecolor\":\"white\",\"minorgridcolor\":\"white\",\"startlinecolor\":\"#2a3f5f\"},\"type\":\"carpet\"}],\"choropleth\":[{\"colorbar\":{\"outlinewidth\":0,\"ticks\":\"\"},\"type\":\"choropleth\"}],\"contour\":[{\"colorbar\":{\"outlinewidth\":0,\"ticks\":\"\"},\"colorscale\":[[0.0,\"#0d0887\"],[0.1111111111111111,\"#46039f\"],[0.2222222222222222,\"#7201a8\"],[0.3333333333333333,\"#9c179e\"],[0.4444444444444444,\"#bd3786\"],[0.5555555555555556,\"#d8576b\"],[0.6666666666666666,\"#ed7953\"],[0.7777777777777778,\"#fb9f3a\"],[0.8888888888888888,\"#fdca26\"],[1.0,\"#f0f921\"]],\"type\":\"contour\"}],\"contourcarpet\":[{\"colorbar\":{\"outlinewidth\":0,\"ticks\":\"\"},\"type\":\"contourcarpet\"}],\"heatmap\":[{\"colorbar\":{\"outlinewidth\":0,\"ticks\":\"\"},\"colorscale\":[[0.0,\"#0d0887\"],[0.1111111111111111,\"#46039f\"],[0.2222222222222222,\"#7201a8\"],[0.3333333333333333,\"#9c179e\"],[0.4444444444444444,\"#bd3786\"],[0.5555555555555556,\"#d8576b\"],[0.6666666666666666,\"#ed7953\"],[0.7777777777777778,\"#fb9f3a\"],[0.8888888888888888,\"#fdca26\"],[1.0,\"#f0f921\"]],\"type\":\"heatmap\"}],\"heatmapgl\":[{\"colorbar\":{\"outlinewidth\":0,\"ticks\":\"\"},\"colorscale\":[[0.0,\"#0d0887\"],[0.1111111111111111,\"#46039f\"],[0.2222222222222222,\"#7201a8\"],[0.3333333333333333,\"#9c179e\"],[0.4444444444444444,\"#bd3786\"],[0.5555555555555556,\"#d8576b\"],[0.6666666666666666,\"#ed7953\"],[0.7777777777777778,\"#fb9f3a\"],[0.8888888888888888,\"#fdca26\"],[1.0,\"#f0f921\"]],\"type\":\"heatmapgl\"}],\"histogram\":[{\"marker\":{\"pattern\":{\"fillmode\":\"overlay\",\"size\":10,\"solidity\":0.2}},\"type\":\"histogram\"}],\"histogram2d\":[{\"colorbar\":{\"outlinewidth\":0,\"ticks\":\"\"},\"colorscale\":[[0.0,\"#0d0887\"],[0.1111111111111111,\"#46039f\"],[0.2222222222222222,\"#7201a8\"],[0.3333333333333333,\"#9c179e\"],[0.4444444444444444,\"#bd3786\"],[0.5555555555555556,\"#d8576b\"],[0.6666666666666666,\"#ed7953\"],[0.7777777777777778,\"#fb9f3a\"],[0.8888888888888888,\"#fdca26\"],[1.0,\"#f0f921\"]],\"type\":\"histogram2d\"}],\"histogram2dcontour\":[{\"colorbar\":{\"outlinewidth\":0,\"ticks\":\"\"},\"colorscale\":[[0.0,\"#0d0887\"],[0.1111111111111111,\"#46039f\"],[0.2222222222222222,\"#7201a8\"],[0.3333333333333333,\"#9c179e\"],[0.4444444444444444,\"#bd3786\"],[0.5555555555555556,\"#d8576b\"],[0.6666666666666666,\"#ed7953\"],[0.7777777777777778,\"#fb9f3a\"],[0.8888888888888888,\"#fdca26\"],[1.0,\"#f0f921\"]],\"type\":\"histogram2dcontour\"}],\"mesh3d\":[{\"colorbar\":{\"outlinewidth\":0,\"ticks\":\"\"},\"type\":\"mesh3d\"}],\"parcoords\":[{\"line\":{\"colorbar\":{\"outlinewidth\":0,\"ticks\":\"\"}},\"type\":\"parcoords\"}],\"pie\":[{\"automargin\":true,\"type\":\"pie\"}],\"scatter\":[{\"marker\":{\"colorbar\":{\"outlinewidth\":0,\"ticks\":\"\"}},\"type\":\"scatter\"}],\"scatter3d\":[{\"line\":{\"colorbar\":{\"outlinewidth\":0,\"ticks\":\"\"}},\"marker\":{\"colorbar\":{\"outlinewidth\":0,\"ticks\":\"\"}},\"type\":\"scatter3d\"}],\"scattercarpet\":[{\"marker\":{\"colorbar\":{\"outlinewidth\":0,\"ticks\":\"\"}},\"type\":\"scattercarpet\"}],\"scattergeo\":[{\"marker\":{\"colorbar\":{\"outlinewidth\":0,\"ticks\":\"\"}},\"type\":\"scattergeo\"}],\"scattergl\":[{\"marker\":{\"colorbar\":{\"outlinewidth\":0,\"ticks\":\"\"}},\"type\":\"scattergl\"}],\"scattermapbox\":[{\"marker\":{\"colorbar\":{\"outlinewidth\":0,\"ticks\":\"\"}},\"type\":\"scattermapbox\"}],\"scatterpolar\":[{\"marker\":{\"colorbar\":{\"outlinewidth\":0,\"ticks\":\"\"}},\"type\":\"scatterpolar\"}],\"scatterpolargl\":[{\"marker\":{\"colorbar\":{\"outlinewidth\":0,\"ticks\":\"\"}},\"type\":\"scatterpolargl\"}],\"scatterternary\":[{\"marker\":{\"colorbar\":{\"outlinewidth\":0,\"ticks\":\"\"}},\"type\":\"scatterternary\"}],\"surface\":[{\"colorbar\":{\"outlinewidth\":0,\"ticks\":\"\"},\"colorscale\":[[0.0,\"#0d0887\"],[0.1111111111111111,\"#46039f\"],[0.2222222222222222,\"#7201a8\"],[0.3333333333333333,\"#9c179e\"],[0.4444444444444444,\"#bd3786\"],[0.5555555555555556,\"#d8576b\"],[0.6666666666666666,\"#ed7953\"],[0.7777777777777778,\"#fb9f3a\"],[0.8888888888888888,\"#fdca26\"],[1.0,\"#f0f921\"]],\"type\":\"surface\"}],\"table\":[{\"cells\":{\"fill\":{\"color\":\"#EBF0F8\"},\"line\":{\"color\":\"white\"}},\"header\":{\"fill\":{\"color\":\"#C8D4E3\"},\"line\":{\"color\":\"white\"}},\"type\":\"table\"}]},\"layout\":{\"annotationdefaults\":{\"arrowcolor\":\"#2a3f5f\",\"arrowhead\":0,\"arrowwidth\":1},\"autotypenumbers\":\"strict\",\"coloraxis\":{\"colorbar\":{\"outlinewidth\":0,\"ticks\":\"\"}},\"colorscale\":{\"diverging\":[[0,\"#8e0152\"],[0.1,\"#c51b7d\"],[0.2,\"#de77ae\"],[0.3,\"#f1b6da\"],[0.4,\"#fde0ef\"],[0.5,\"#f7f7f7\"],[0.6,\"#e6f5d0\"],[0.7,\"#b8e186\"],[0.8,\"#7fbc41\"],[0.9,\"#4d9221\"],[1,\"#276419\"]],\"sequential\":[[0.0,\"#0d0887\"],[0.1111111111111111,\"#46039f\"],[0.2222222222222222,\"#7201a8\"],[0.3333333333333333,\"#9c179e\"],[0.4444444444444444,\"#bd3786\"],[0.5555555555555556,\"#d8576b\"],[0.6666666666666666,\"#ed7953\"],[0.7777777777777778,\"#fb9f3a\"],[0.8888888888888888,\"#fdca26\"],[1.0,\"#f0f921\"]],\"sequentialminus\":[[0.0,\"#0d0887\"],[0.1111111111111111,\"#46039f\"],[0.2222222222222222,\"#7201a8\"],[0.3333333333333333,\"#9c179e\"],[0.4444444444444444,\"#bd3786\"],[0.5555555555555556,\"#d8576b\"],[0.6666666666666666,\"#ed7953\"],[0.7777777777777778,\"#fb9f3a\"],[0.8888888888888888,\"#fdca26\"],[1.0,\"#f0f921\"]]},\"colorway\":[\"#636efa\",\"#EF553B\",\"#00cc96\",\"#ab63fa\",\"#FFA15A\",\"#19d3f3\",\"#FF6692\",\"#B6E880\",\"#FF97FF\",\"#FECB52\"],\"font\":{\"color\":\"#2a3f5f\"},\"geo\":{\"bgcolor\":\"white\",\"lakecolor\":\"white\",\"landcolor\":\"#E5ECF6\",\"showlakes\":true,\"showland\":true,\"subunitcolor\":\"white\"},\"hoverlabel\":{\"align\":\"left\"},\"hovermode\":\"closest\",\"mapbox\":{\"style\":\"light\"},\"paper_bgcolor\":\"white\",\"plot_bgcolor\":\"#E5ECF6\",\"polar\":{\"angularaxis\":{\"gridcolor\":\"white\",\"linecolor\":\"white\",\"ticks\":\"\"},\"bgcolor\":\"#E5ECF6\",\"radialaxis\":{\"gridcolor\":\"white\",\"linecolor\":\"white\",\"ticks\":\"\"}},\"scene\":{\"xaxis\":{\"backgroundcolor\":\"#E5ECF6\",\"gridcolor\":\"white\",\"gridwidth\":2,\"linecolor\":\"white\",\"showbackground\":true,\"ticks\":\"\",\"zerolinecolor\":\"white\"},\"yaxis\":{\"backgroundcolor\":\"#E5ECF6\",\"gridcolor\":\"white\",\"gridwidth\":2,\"linecolor\":\"white\",\"showbackground\":true,\"ticks\":\"\",\"zerolinecolor\":\"white\"},\"zaxis\":{\"backgroundcolor\":\"#E5ECF6\",\"gridcolor\":\"white\",\"gridwidth\":2,\"linecolor\":\"white\",\"showbackground\":true,\"ticks\":\"\",\"zerolinecolor\":\"white\"}},\"shapedefaults\":{\"line\":{\"color\":\"#2a3f5f\"}},\"ternary\":{\"aaxis\":{\"gridcolor\":\"white\",\"linecolor\":\"white\",\"ticks\":\"\"},\"baxis\":{\"gridcolor\":\"white\",\"linecolor\":\"white\",\"ticks\":\"\"},\"bgcolor\":\"#E5ECF6\",\"caxis\":{\"gridcolor\":\"white\",\"linecolor\":\"white\",\"ticks\":\"\"}},\"title\":{\"x\":0.05},\"xaxis\":{\"automargin\":true,\"gridcolor\":\"white\",\"linecolor\":\"white\",\"ticks\":\"\",\"title\":{\"standoff\":15},\"zerolinecolor\":\"white\",\"zerolinewidth\":2},\"yaxis\":{\"automargin\":true,\"gridcolor\":\"white\",\"linecolor\":\"white\",\"ticks\":\"\",\"title\":{\"standoff\":15},\"zerolinecolor\":\"white\",\"zerolinewidth\":2}}},\"xaxis\":{\"anchor\":\"y\",\"domain\":[0.0,1.0],\"showline\":true,\"linewidth\":1,\"linecolor\":\"black\"},\"yaxis\":{\"anchor\":\"x\",\"domain\":[0.0,1.0]}},                        {\"responsive\": true}                    ).then(function(){\n",
              "                            \n",
              "var gd = document.getElementById('434929b5-64d3-4ae2-acf7-a6dade51045e');\n",
              "var x = new MutationObserver(function (mutations, observer) {{\n",
              "        var display = window.getComputedStyle(gd).display;\n",
              "        if (!display || display === 'none') {{\n",
              "            console.log([gd, 'removed!']);\n",
              "            Plotly.purge(gd);\n",
              "            observer.disconnect();\n",
              "        }}\n",
              "}});\n",
              "\n",
              "// Listen for the removal of the full notebook cells\n",
              "var notebookContainer = gd.closest('#notebook-container');\n",
              "if (notebookContainer) {{\n",
              "    x.observe(notebookContainer, {childList: true});\n",
              "}}\n",
              "\n",
              "// Listen for the clearing of the current output cell\n",
              "var outputEl = gd.closest('.output');\n",
              "if (outputEl) {{\n",
              "    x.observe(outputEl, {childList: true});\n",
              "}}\n",
              "\n",
              "                        })                };                            </script>        </div>\n",
              "</body>\n",
              "</html>"
            ]
          },
          "metadata": {}
        }
      ]
    },
    {
      "cell_type": "code",
      "source": [
        "print(freq_indian_tweet)"
      ],
      "metadata": {
        "colab": {
          "base_uri": "https://localhost:8080/"
        },
        "id": "zvaahU8ob3rP",
        "outputId": "e6da0899-7d23-460d-c6b2-65bc85484f0a"
      },
      "execution_count": null,
      "outputs": [
        {
          "output_type": "stream",
          "name": "stdout",
          "text": [
            "[0.31388923 0.37700819 0.32894073 0.15694461]\n"
          ]
        }
      ]
    },
    {
      "cell_type": "markdown",
      "source": [
        "Out of the Indian unicorn companies,Flipkart tweets most frequently but there is not much difference in frequency of companies."
      ],
      "metadata": {
        "id": "ovzcDG3xXcZq"
      }
    },
    {
      "cell_type": "code",
      "source": [
        "avg_world=np.average(freq_world_tweet)\n",
        "avg_india=np.average(freq_indian_tweet)\n",
        "plt.bar(['World top companies','Indian unicorn companies'],[avg_world,avg_india],color=['orange','green'],edgecolor='black',width=.5)\n",
        "plt.xlabel('Company')\n",
        "plt.ylabel('Frequency of posting')\n",
        "plt.show"
      ],
      "metadata": {
        "colab": {
          "base_uri": "https://localhost:8080/",
          "height": 296
        },
        "id": "n089g06SBoPK",
        "outputId": "481cebbd-a073-49c0-e60b-00eeb246cc76"
      },
      "execution_count": null,
      "outputs": [
        {
          "output_type": "execute_result",
          "data": {
            "text/plain": [
              "<function matplotlib.pyplot.show(*args, **kw)>"
            ]
          },
          "metadata": {},
          "execution_count": 49
        },
        {
          "output_type": "display_data",
          "data": {
            "text/plain": [
              "<Figure size 432x288 with 1 Axes>"
            ],
            "image/png": "[encoded data removed]"
          },
          "metadata": {
            "needs_background": "light"
          }
        }
      ]
    },
    {
      "cell_type": "code",
      "source": [
        "fig = make_subplots(\n",
        "    rows=1, cols=1,\n",
        "    subplot_titles=(\"\"))\n",
        "avg_world=np.average(freq_world_tweet)\n",
        "avg_india=np.average(freq_indian_tweet)\n",
        "freq=np.array([avg_world,avg_india])\n",
        "user=['World top companies','indian unicorn companies']\n",
        "fig.add_trace(go.Bar(x=user,y=freq, text=\"frequency of posting\",textposition='outside',showlegend=False,\n",
        "          marker=dict(color=['#d5a036', '#1984c5'],line=dict(width=1.5, color='#000000'), opacity=0.9)),row=1, col=1)\n",
        "\n",
        "fig.update_xaxes(showline=True, linewidth=1, linecolor='black')\n",
        "\n",
        "fig.show()"
      ],
      "metadata": {
        "colab": {
          "base_uri": "https://localhost:8080/",
          "height": 542
        },
        "id": "C-5T_2jR97O7",
        "outputId": "cf0b862d-8211-44b5-9044-bad0e760b259"
      },
      "execution_count": null,
      "outputs": [
        {
          "output_type": "display_data",
          "data": {
            "text/html": [
              "<html>\n",
              "<head><meta charset=\"utf-8\" /></head>\n",
              "<body>\n",
              "    <div>            <script src=\"https://cdnjs.cloudflare.com/ajax/libs/mathjax/2.7.5/MathJax.js?config=TeX-AMS-MML_SVG\"></script><script type=\"text/javascript\">if (window.MathJax) {MathJax.Hub.Config({SVG: {font: \"STIX-Web\"}});}</script>                <script type=\"text/javascript\">window.PlotlyConfig = {MathJaxConfig: 'local'};</script>\n",
              "        <script src=\"https://cdn.plot.ly/plotly-2.8.3.min.js\"></script>                <div id=\"47c99977-8398-44d8-8b23-8115afe2eb59\" class=\"plotly-graph-div\" style=\"height:525px; width:100%;\"></div>            <script type=\"text/javascript\">                                    window.PLOTLYENV=window.PLOTLYENV || {};                                    if (document.getElementById(\"47c99977-8398-44d8-8b23-8115afe2eb59\")) {                    Plotly.newPlot(                        \"47c99977-8398-44d8-8b23-8115afe2eb59\",                        [{\"marker\":{\"color\":[\"#d5a036\",\"#1984c5\"],\"line\":{\"color\":\"#000000\",\"width\":1.5},\"opacity\":0.9},\"showlegend\":false,\"text\":\"frequency of posting\",\"textposition\":\"outside\",\"x\":[\"World top companies\",\"indian unicorn companies\"],\"y\":[0.16070748822608089,0.29419568887905834],\"type\":\"bar\",\"xaxis\":\"x\",\"yaxis\":\"y\"}],                        {\"template\":{\"data\":{\"bar\":[{\"error_x\":{\"color\":\"#2a3f5f\"},\"error_y\":{\"color\":\"#2a3f5f\"},\"marker\":{\"line\":{\"color\":\"#E5ECF6\",\"width\":0.5},\"pattern\":{\"fillmode\":\"overlay\",\"size\":10,\"solidity\":0.2}},\"type\":\"bar\"}],\"barpolar\":[{\"marker\":{\"line\":{\"color\":\"#E5ECF6\",\"width\":0.5},\"pattern\":{\"fillmode\":\"overlay\",\"size\":10,\"solidity\":0.2}},\"type\":\"barpolar\"}],\"carpet\":[{\"aaxis\":{\"endlinecolor\":\"#2a3f5f\",\"gridcolor\":\"white\",\"linecolor\":\"white\",\"minorgridcolor\":\"white\",\"startlinecolor\":\"#2a3f5f\"},\"baxis\":{\"endlinecolor\":\"#2a3f5f\",\"gridcolor\":\"white\",\"linecolor\":\"white\",\"minorgridcolor\":\"white\",\"startlinecolor\":\"#2a3f5f\"},\"type\":\"carpet\"}],\"choropleth\":[{\"colorbar\":{\"outlinewidth\":0,\"ticks\":\"\"},\"type\":\"choropleth\"}],\"contour\":[{\"colorbar\":{\"outlinewidth\":0,\"ticks\":\"\"},\"colorscale\":[[0.0,\"#0d0887\"],[0.1111111111111111,\"#46039f\"],[0.2222222222222222,\"#7201a8\"],[0.3333333333333333,\"#9c179e\"],[0.4444444444444444,\"#bd3786\"],[0.5555555555555556,\"#d8576b\"],[0.6666666666666666,\"#ed7953\"],[0.7777777777777778,\"#fb9f3a\"],[0.8888888888888888,\"#fdca26\"],[1.0,\"#f0f921\"]],\"type\":\"contour\"}],\"contourcarpet\":[{\"colorbar\":{\"outlinewidth\":0,\"ticks\":\"\"},\"type\":\"contourcarpet\"}],\"heatmap\":[{\"colorbar\":{\"outlinewidth\":0,\"ticks\":\"\"},\"colorscale\":[[0.0,\"#0d0887\"],[0.1111111111111111,\"#46039f\"],[0.2222222222222222,\"#7201a8\"],[0.3333333333333333,\"#9c179e\"],[0.4444444444444444,\"#bd3786\"],[0.5555555555555556,\"#d8576b\"],[0.6666666666666666,\"#ed7953\"],[0.7777777777777778,\"#fb9f3a\"],[0.8888888888888888,\"#fdca26\"],[1.0,\"#f0f921\"]],\"type\":\"heatmap\"}],\"heatmapgl\":[{\"colorbar\":{\"outlinewidth\":0,\"ticks\":\"\"},\"colorscale\":[[0.0,\"#0d0887\"],[0.1111111111111111,\"#46039f\"],[0.2222222222222222,\"#7201a8\"],[0.3333333333333333,\"#9c179e\"],[0.4444444444444444,\"#bd3786\"],[0.5555555555555556,\"#d8576b\"],[0.6666666666666666,\"#ed7953\"],[0.7777777777777778,\"#fb9f3a\"],[0.8888888888888888,\"#fdca26\"],[1.0,\"#f0f921\"]],\"type\":\"heatmapgl\"}],\"histogram\":[{\"marker\":{\"pattern\":{\"fillmode\":\"overlay\",\"size\":10,\"solidity\":0.2}},\"type\":\"histogram\"}],\"histogram2d\":[{\"colorbar\":{\"outlinewidth\":0,\"ticks\":\"\"},\"colorscale\":[[0.0,\"#0d0887\"],[0.1111111111111111,\"#46039f\"],[0.2222222222222222,\"#7201a8\"],[0.3333333333333333,\"#9c179e\"],[0.4444444444444444,\"#bd3786\"],[0.5555555555555556,\"#d8576b\"],[0.6666666666666666,\"#ed7953\"],[0.7777777777777778,\"#fb9f3a\"],[0.8888888888888888,\"#fdca26\"],[1.0,\"#f0f921\"]],\"type\":\"histogram2d\"}],\"histogram2dcontour\":[{\"colorbar\":{\"outlinewidth\":0,\"ticks\":\"\"},\"colorscale\":[[0.0,\"#0d0887\"],[0.1111111111111111,\"#46039f\"],[0.2222222222222222,\"#7201a8\"],[0.3333333333333333,\"#9c179e\"],[0.4444444444444444,\"#bd3786\"],[0.5555555555555556,\"#d8576b\"],[0.6666666666666666,\"#ed7953\"],[0.7777777777777778,\"#fb9f3a\"],[0.8888888888888888,\"#fdca26\"],[1.0,\"#f0f921\"]],\"type\":\"histogram2dcontour\"}],\"mesh3d\":[{\"colorbar\":{\"outlinewidth\":0,\"ticks\":\"\"},\"type\":\"mesh3d\"}],\"parcoords\":[{\"line\":{\"colorbar\":{\"outlinewidth\":0,\"ticks\":\"\"}},\"type\":\"parcoords\"}],\"pie\":[{\"automargin\":true,\"type\":\"pie\"}],\"scatter\":[{\"marker\":{\"colorbar\":{\"outlinewidth\":0,\"ticks\":\"\"}},\"type\":\"scatter\"}],\"scatter3d\":[{\"line\":{\"colorbar\":{\"outlinewidth\":0,\"ticks\":\"\"}},\"marker\":{\"colorbar\":{\"outlinewidth\":0,\"ticks\":\"\"}},\"type\":\"scatter3d\"}],\"scattercarpet\":[{\"marker\":{\"colorbar\":{\"outlinewidth\":0,\"ticks\":\"\"}},\"type\":\"scattercarpet\"}],\"scattergeo\":[{\"marker\":{\"colorbar\":{\"outlinewidth\":0,\"ticks\":\"\"}},\"type\":\"scattergeo\"}],\"scattergl\":[{\"marker\":{\"colorbar\":{\"outlinewidth\":0,\"ticks\":\"\"}},\"type\":\"scattergl\"}],\"scattermapbox\":[{\"marker\":{\"colorbar\":{\"outlinewidth\":0,\"ticks\":\"\"}},\"type\":\"scattermapbox\"}],\"scatterpolar\":[{\"marker\":{\"colorbar\":{\"outlinewidth\":0,\"ticks\":\"\"}},\"type\":\"scatterpolar\"}],\"scatterpolargl\":[{\"marker\":{\"colorbar\":{\"outlinewidth\":0,\"ticks\":\"\"}},\"type\":\"scatterpolargl\"}],\"scatterternary\":[{\"marker\":{\"colorbar\":{\"outlinewidth\":0,\"ticks\":\"\"}},\"type\":\"scatterternary\"}],\"surface\":[{\"colorbar\":{\"outlinewidth\":0,\"ticks\":\"\"},\"colorscale\":[[0.0,\"#0d0887\"],[0.1111111111111111,\"#46039f\"],[0.2222222222222222,\"#7201a8\"],[0.3333333333333333,\"#9c179e\"],[0.4444444444444444,\"#bd3786\"],[0.5555555555555556,\"#d8576b\"],[0.6666666666666666,\"#ed7953\"],[0.7777777777777778,\"#fb9f3a\"],[0.8888888888888888,\"#fdca26\"],[1.0,\"#f0f921\"]],\"type\":\"surface\"}],\"table\":[{\"cells\":{\"fill\":{\"color\":\"#EBF0F8\"},\"line\":{\"color\":\"white\"}},\"header\":{\"fill\":{\"color\":\"#C8D4E3\"},\"line\":{\"color\":\"white\"}},\"type\":\"table\"}]},\"layout\":{\"annotationdefaults\":{\"arrowcolor\":\"#2a3f5f\",\"arrowhead\":0,\"arrowwidth\":1},\"autotypenumbers\":\"strict\",\"coloraxis\":{\"colorbar\":{\"outlinewidth\":0,\"ticks\":\"\"}},\"colorscale\":{\"diverging\":[[0,\"#8e0152\"],[0.1,\"#c51b7d\"],[0.2,\"#de77ae\"],[0.3,\"#f1b6da\"],[0.4,\"#fde0ef\"],[0.5,\"#f7f7f7\"],[0.6,\"#e6f5d0\"],[0.7,\"#b8e186\"],[0.8,\"#7fbc41\"],[0.9,\"#4d9221\"],[1,\"#276419\"]],\"sequential\":[[0.0,\"#0d0887\"],[0.1111111111111111,\"#46039f\"],[0.2222222222222222,\"#7201a8\"],[0.3333333333333333,\"#9c179e\"],[0.4444444444444444,\"#bd3786\"],[0.5555555555555556,\"#d8576b\"],[0.6666666666666666,\"#ed7953\"],[0.7777777777777778,\"#fb9f3a\"],[0.8888888888888888,\"#fdca26\"],[1.0,\"#f0f921\"]],\"sequentialminus\":[[0.0,\"#0d0887\"],[0.1111111111111111,\"#46039f\"],[0.2222222222222222,\"#7201a8\"],[0.3333333333333333,\"#9c179e\"],[0.4444444444444444,\"#bd3786\"],[0.5555555555555556,\"#d8576b\"],[0.6666666666666666,\"#ed7953\"],[0.7777777777777778,\"#fb9f3a\"],[0.8888888888888888,\"#fdca26\"],[1.0,\"#f0f921\"]]},\"colorway\":[\"#636efa\",\"#EF553B\",\"#00cc96\",\"#ab63fa\",\"#FFA15A\",\"#19d3f3\",\"#FF6692\",\"#B6E880\",\"#FF97FF\",\"#FECB52\"],\"font\":{\"color\":\"#2a3f5f\"},\"geo\":{\"bgcolor\":\"white\",\"lakecolor\":\"white\",\"landcolor\":\"#E5ECF6\",\"showlakes\":true,\"showland\":true,\"subunitcolor\":\"white\"},\"hoverlabel\":{\"align\":\"left\"},\"hovermode\":\"closest\",\"mapbox\":{\"style\":\"light\"},\"paper_bgcolor\":\"white\",\"plot_bgcolor\":\"#E5ECF6\",\"polar\":{\"angularaxis\":{\"gridcolor\":\"white\",\"linecolor\":\"white\",\"ticks\":\"\"},\"bgcolor\":\"#E5ECF6\",\"radialaxis\":{\"gridcolor\":\"white\",\"linecolor\":\"white\",\"ticks\":\"\"}},\"scene\":{\"xaxis\":{\"backgroundcolor\":\"#E5ECF6\",\"gridcolor\":\"white\",\"gridwidth\":2,\"linecolor\":\"white\",\"showbackground\":true,\"ticks\":\"\",\"zerolinecolor\":\"white\"},\"yaxis\":{\"backgroundcolor\":\"#E5ECF6\",\"gridcolor\":\"white\",\"gridwidth\":2,\"linecolor\":\"white\",\"showbackground\":true,\"ticks\":\"\",\"zerolinecolor\":\"white\"},\"zaxis\":{\"backgroundcolor\":\"#E5ECF6\",\"gridcolor\":\"white\",\"gridwidth\":2,\"linecolor\":\"white\",\"showbackground\":true,\"ticks\":\"\",\"zerolinecolor\":\"white\"}},\"shapedefaults\":{\"line\":{\"color\":\"#2a3f5f\"}},\"ternary\":{\"aaxis\":{\"gridcolor\":\"white\",\"linecolor\":\"white\",\"ticks\":\"\"},\"baxis\":{\"gridcolor\":\"white\",\"linecolor\":\"white\",\"ticks\":\"\"},\"bgcolor\":\"#E5ECF6\",\"caxis\":{\"gridcolor\":\"white\",\"linecolor\":\"white\",\"ticks\":\"\"}},\"title\":{\"x\":0.05},\"xaxis\":{\"automargin\":true,\"gridcolor\":\"white\",\"linecolor\":\"white\",\"ticks\":\"\",\"title\":{\"standoff\":15},\"zerolinecolor\":\"white\",\"zerolinewidth\":2},\"yaxis\":{\"automargin\":true,\"gridcolor\":\"white\",\"linecolor\":\"white\",\"ticks\":\"\",\"title\":{\"standoff\":15},\"zerolinecolor\":\"white\",\"zerolinewidth\":2}}},\"xaxis\":{\"anchor\":\"y\",\"domain\":[0.0,1.0],\"showline\":true,\"linewidth\":1,\"linecolor\":\"black\"},\"yaxis\":{\"anchor\":\"x\",\"domain\":[0.0,1.0]}},                        {\"responsive\": true}                    ).then(function(){\n",
              "                            \n",
              "var gd = document.getElementById('47c99977-8398-44d8-8b23-8115afe2eb59');\n",
              "var x = new MutationObserver(function (mutations, observer) {{\n",
              "        var display = window.getComputedStyle(gd).display;\n",
              "        if (!display || display === 'none') {{\n",
              "            console.log([gd, 'removed!']);\n",
              "            Plotly.purge(gd);\n",
              "            observer.disconnect();\n",
              "        }}\n",
              "}});\n",
              "\n",
              "// Listen for the removal of the full notebook cells\n",
              "var notebookContainer = gd.closest('#notebook-container');\n",
              "if (notebookContainer) {{\n",
              "    x.observe(notebookContainer, {childList: true});\n",
              "}}\n",
              "\n",
              "// Listen for the clearing of the current output cell\n",
              "var outputEl = gd.closest('.output');\n",
              "if (outputEl) {{\n",
              "    x.observe(outputEl, {childList: true});\n",
              "}}\n",
              "\n",
              "                        })                };                            </script>        </div>\n",
              "</body>\n",
              "</html>"
            ]
          },
          "metadata": {}
        }
      ]
    },
    {
      "cell_type": "markdown",
      "source": [
        "Indian unicorn companies tweets more frequently than top world companies."
      ],
      "metadata": {
        "id": "9yOSPcN2YGXI"
      }
    },
    {
      "cell_type": "markdown",
      "source": [
        "# **Replies**"
      ],
      "metadata": {
        "id": "3oOZW0amr5tX"
      }
    },
    {
      "cell_type": "code",
      "source": [
        "freq_world_replies=np.array([fq_rp_google,fq_rp_microsoft,fq_rp_tesla,fq_rp_meta])\n",
        "plt.bar(['Google','Microsoft','Tesla','Meta'],freq_world_replies,color='grey',width=0.8)\n",
        "plt.xlabel('Top world companies')\n",
        "plt.ylabel('Frequency of posting')\n",
        "plt.show"
      ],
      "metadata": {
        "colab": {
          "base_uri": "https://localhost:8080/",
          "height": 296
        },
        "id": "BIbs9TFPr9y0",
        "outputId": "0f74393c-2d90-43ea-b93c-8eeb12f7b14d"
      },
      "execution_count": null,
      "outputs": [
        {
          "output_type": "execute_result",
          "data": {
            "text/plain": [
              "<function matplotlib.pyplot.show(*args, **kw)>"
            ]
          },
          "metadata": {},
          "execution_count": 51
        },
        {
          "output_type": "display_data",
          "data": {
            "text/plain": [
              "<Figure size 432x288 with 1 Axes>"
            ],
            "image/png": "[encoded data removed]"
          },
          "metadata": {
            "needs_background": "light"
          }
        }
      ]
    },
    {
      "cell_type": "markdown",
      "source": [
        "## **Tesla does not replies to the tweets at all.**\n",
        "google is the most active in replying to it's followers."
      ],
      "metadata": {
        "id": "G27mhZZI2n5R"
      }
    },
    {
      "cell_type": "code",
      "source": [
        "freq_indian_replies=np.array([fq_rp_byjus,fq_rp_flipkart,fq_rp_paytm,fq_rp_zomato])\n",
        "plt.bar(['Byjus','Flipkart','Paytm','Zomato'],freq_indian_replies,width=0.8)\n",
        "plt.xlabel('Indian Unicorn companies')\n",
        "plt.ylabel('Frequency of posting')\n",
        "plt.show"
      ],
      "metadata": {
        "colab": {
          "base_uri": "https://localhost:8080/",
          "height": 296
        },
        "id": "8EYjlo_72jGP",
        "outputId": "80964cbc-eeb3-4784-ec13-bc8b0fb1993a"
      },
      "execution_count": null,
      "outputs": [
        {
          "output_type": "execute_result",
          "data": {
            "text/plain": [
              "<function matplotlib.pyplot.show(*args, **kw)>"
            ]
          },
          "metadata": {},
          "execution_count": 52
        },
        {
          "output_type": "display_data",
          "data": {
            "text/plain": [
              "<Figure size 432x288 with 1 Axes>"
            ],
            "image/png": "[encoded data removed]"
          },
          "metadata": {
            "needs_background": "light"
          }
        }
      ]
    },
    {
      "cell_type": "markdown",
      "source": [
        "Paytm replies to the tweets out of which maximum are answers to complaints while flipkart replies are mostly random or sarcastic. No replies were recorded for zomato and byjus in the observation week"
      ],
      "metadata": {
        "id": "92gcsvz4ZX8J"
      }
    },
    {
      "cell_type": "code",
      "source": [
        "avg_world=np.average(freq_world_replies)\n",
        "avg_india=np.average(freq_indian_replies)\n",
        "plt.bar(['World top companies','Indian unicorn companies'],[avg_world,avg_india],width=0.1)\n",
        "plt.xlabel('Company')\n",
        "plt.ylabel('Frequency of posting')\n",
        "plt.show"
      ],
      "metadata": {
        "colab": {
          "base_uri": "https://localhost:8080/",
          "height": 296
        },
        "id": "XZnQdJQ86YX3",
        "outputId": "d74e6cca-5cb4-4af1-f3b0-774c02f08986"
      },
      "execution_count": null,
      "outputs": [
        {
          "output_type": "execute_result",
          "data": {
            "text/plain": [
              "<function matplotlib.pyplot.show(*args, **kw)>"
            ]
          },
          "metadata": {},
          "execution_count": 53
        },
        {
          "output_type": "display_data",
          "data": {
            "text/plain": [
              "<Figure size 432x288 with 1 Axes>"
            ],
            "image/png": "[encoded data removed]"
          },
          "metadata": {
            "needs_background": "light"
          }
        }
      ]
    },
    {
      "cell_type": "markdown",
      "source": [
        "the above graph shows top world companies are more interactive as compared to indian unicorns."
      ],
      "metadata": {
        "id": "NC2vdHp4aO7H"
      }
    },
    {
      "cell_type": "markdown",
      "source": [
        "# **Retweets**"
      ],
      "metadata": {
        "id": "R_eBf9e26N1F"
      }
    },
    {
      "cell_type": "code",
      "source": [
        "freq_world_retweet=np.array([fq_rt_google,fq_rt_microsoft,fq_rt_tesla,fq_rt_meta])\n",
        "plt.barh(['Google','Microsoft','Tesla','Meta'],freq_world_retweet,color='gold',edgecolor='black')\n",
        "for index, value in enumerate(freq_world_retweet):\n",
        "    plt.text(value, index,str(value))\n",
        "\n",
        "plt.xlabel('Top world companies')\n",
        "plt.ylabel('Frequency of posting')\n",
        "plt.show"
      ],
      "metadata": {
        "colab": {
          "base_uri": "https://localhost:8080/",
          "height": 296
        },
        "id": "wgyDGBfr6LFk",
        "outputId": "430f21bd-6a2d-4c15-c41d-822317215e9e"
      },
      "execution_count": null,
      "outputs": [
        {
          "output_type": "execute_result",
          "data": {
            "text/plain": [
              "<function matplotlib.pyplot.show(*args, **kw)>"
            ]
          },
          "metadata": {},
          "execution_count": 54
        },
        {
          "output_type": "display_data",
          "data": {
            "text/plain": [
              "<Figure size 432x288 with 1 Axes>"
            ],
            "image/png": "[encoded data removed]"
          },
          "metadata": {
            "needs_background": "light"
          }
        }
      ]
    },
    {
      "cell_type": "code",
      "source": [
        "fig = make_subplots(\n",
        "    rows=1, cols=1,\n",
        "    subplot_titles=(\"\"))\n",
        "avg_world=np.average(freq_world_tweet)\n",
        "avg_india=np.average(freq_indian_tweet)\n",
        "freq=np.array([avg_world,avg_india])\n",
        "\n",
        "user=['World top companies','indian unicorn companies']\n",
        "fig.add_trace(go.Bar(x=user,y=freq, text=\"frequency of posting\",textposition='outside',showlegend=False,\n",
        "          marker=dict(color=['#d5a036', '#1984c5'],line=dict(width=1.5, color='#000000'), opacity=0.9)),row=1, col=1)\n",
        "\n",
        "fig.update_xaxes(showline=True, linewidth=1, linecolor='black')\n",
        "\n",
        "fig.show()"
      ],
      "metadata": {
        "id": "iw9XC-51DEe8",
        "colab": {
          "base_uri": "https://localhost:8080/",
          "height": 542
        },
        "outputId": "09981182-5088-47cd-f76d-dc26cf3e24df"
      },
      "execution_count": null,
      "outputs": [
        {
          "output_type": "display_data",
          "data": {
            "text/html": [
              "<html>\n",
              "<head><meta charset=\"utf-8\" /></head>\n",
              "<body>\n",
              "    <div>            <script src=\"https://cdnjs.cloudflare.com/ajax/libs/mathjax/2.7.5/MathJax.js?config=TeX-AMS-MML_SVG\"></script><script type=\"text/javascript\">if (window.MathJax) {MathJax.Hub.Config({SVG: {font: \"STIX-Web\"}});}</script>                <script type=\"text/javascript\">window.PlotlyConfig = {MathJaxConfig: 'local'};</script>\n",
              "        <script src=\"https://cdn.plot.ly/plotly-2.8.3.min.js\"></script>                <div id=\"1621255d-696b-408d-967e-9fd0cf86c45b\" class=\"plotly-graph-div\" style=\"height:525px; width:100%;\"></div>            <script type=\"text/javascript\">                                    window.PLOTLYENV=window.PLOTLYENV || {};                                    if (document.getElementById(\"1621255d-696b-408d-967e-9fd0cf86c45b\")) {                    Plotly.newPlot(                        \"1621255d-696b-408d-967e-9fd0cf86c45b\",                        [{\"marker\":{\"color\":[\"#d5a036\",\"#1984c5\"],\"line\":{\"color\":\"#000000\",\"width\":1.5},\"opacity\":0.9},\"showlegend\":false,\"text\":\"frequency of posting\",\"textposition\":\"outside\",\"x\":[\"World top companies\",\"indian unicorn companies\"],\"y\":[0.16070748822608089,0.29419568887905834],\"type\":\"bar\",\"xaxis\":\"x\",\"yaxis\":\"y\"}],                        {\"template\":{\"data\":{\"bar\":[{\"error_x\":{\"color\":\"#2a3f5f\"},\"error_y\":{\"color\":\"#2a3f5f\"},\"marker\":{\"line\":{\"color\":\"#E5ECF6\",\"width\":0.5},\"pattern\":{\"fillmode\":\"overlay\",\"size\":10,\"solidity\":0.2}},\"type\":\"bar\"}],\"barpolar\":[{\"marker\":{\"line\":{\"color\":\"#E5ECF6\",\"width\":0.5},\"pattern\":{\"fillmode\":\"overlay\",\"size\":10,\"solidity\":0.2}},\"type\":\"barpolar\"}],\"carpet\":[{\"aaxis\":{\"endlinecolor\":\"#2a3f5f\",\"gridcolor\":\"white\",\"linecolor\":\"white\",\"minorgridcolor\":\"white\",\"startlinecolor\":\"#2a3f5f\"},\"baxis\":{\"endlinecolor\":\"#2a3f5f\",\"gridcolor\":\"white\",\"linecolor\":\"white\",\"minorgridcolor\":\"white\",\"startlinecolor\":\"#2a3f5f\"},\"type\":\"carpet\"}],\"choropleth\":[{\"colorbar\":{\"outlinewidth\":0,\"ticks\":\"\"},\"type\":\"choropleth\"}],\"contour\":[{\"colorbar\":{\"outlinewidth\":0,\"ticks\":\"\"},\"colorscale\":[[0.0,\"#0d0887\"],[0.1111111111111111,\"#46039f\"],[0.2222222222222222,\"#7201a8\"],[0.3333333333333333,\"#9c179e\"],[0.4444444444444444,\"#bd3786\"],[0.5555555555555556,\"#d8576b\"],[0.6666666666666666,\"#ed7953\"],[0.7777777777777778,\"#fb9f3a\"],[0.8888888888888888,\"#fdca26\"],[1.0,\"#f0f921\"]],\"type\":\"contour\"}],\"contourcarpet\":[{\"colorbar\":{\"outlinewidth\":0,\"ticks\":\"\"},\"type\":\"contourcarpet\"}],\"heatmap\":[{\"colorbar\":{\"outlinewidth\":0,\"ticks\":\"\"},\"colorscale\":[[0.0,\"#0d0887\"],[0.1111111111111111,\"#46039f\"],[0.2222222222222222,\"#7201a8\"],[0.3333333333333333,\"#9c179e\"],[0.4444444444444444,\"#bd3786\"],[0.5555555555555556,\"#d8576b\"],[0.6666666666666666,\"#ed7953\"],[0.7777777777777778,\"#fb9f3a\"],[0.8888888888888888,\"#fdca26\"],[1.0,\"#f0f921\"]],\"type\":\"heatmap\"}],\"heatmapgl\":[{\"colorbar\":{\"outlinewidth\":0,\"ticks\":\"\"},\"colorscale\":[[0.0,\"#0d0887\"],[0.1111111111111111,\"#46039f\"],[0.2222222222222222,\"#7201a8\"],[0.3333333333333333,\"#9c179e\"],[0.4444444444444444,\"#bd3786\"],[0.5555555555555556,\"#d8576b\"],[0.6666666666666666,\"#ed7953\"],[0.7777777777777778,\"#fb9f3a\"],[0.8888888888888888,\"#fdca26\"],[1.0,\"#f0f921\"]],\"type\":\"heatmapgl\"}],\"histogram\":[{\"marker\":{\"pattern\":{\"fillmode\":\"overlay\",\"size\":10,\"solidity\":0.2}},\"type\":\"histogram\"}],\"histogram2d\":[{\"colorbar\":{\"outlinewidth\":0,\"ticks\":\"\"},\"colorscale\":[[0.0,\"#0d0887\"],[0.1111111111111111,\"#46039f\"],[0.2222222222222222,\"#7201a8\"],[0.3333333333333333,\"#9c179e\"],[0.4444444444444444,\"#bd3786\"],[0.5555555555555556,\"#d8576b\"],[0.6666666666666666,\"#ed7953\"],[0.7777777777777778,\"#fb9f3a\"],[0.8888888888888888,\"#fdca26\"],[1.0,\"#f0f921\"]],\"type\":\"histogram2d\"}],\"histogram2dcontour\":[{\"colorbar\":{\"outlinewidth\":0,\"ticks\":\"\"},\"colorscale\":[[0.0,\"#0d0887\"],[0.1111111111111111,\"#46039f\"],[0.2222222222222222,\"#7201a8\"],[0.3333333333333333,\"#9c179e\"],[0.4444444444444444,\"#bd3786\"],[0.5555555555555556,\"#d8576b\"],[0.6666666666666666,\"#ed7953\"],[0.7777777777777778,\"#fb9f3a\"],[0.8888888888888888,\"#fdca26\"],[1.0,\"#f0f921\"]],\"type\":\"histogram2dcontour\"}],\"mesh3d\":[{\"colorbar\":{\"outlinewidth\":0,\"ticks\":\"\"},\"type\":\"mesh3d\"}],\"parcoords\":[{\"line\":{\"colorbar\":{\"outlinewidth\":0,\"ticks\":\"\"}},\"type\":\"parcoords\"}],\"pie\":[{\"automargin\":true,\"type\":\"pie\"}],\"scatter\":[{\"marker\":{\"colorbar\":{\"outlinewidth\":0,\"ticks\":\"\"}},\"type\":\"scatter\"}],\"scatter3d\":[{\"line\":{\"colorbar\":{\"outlinewidth\":0,\"ticks\":\"\"}},\"marker\":{\"colorbar\":{\"outlinewidth\":0,\"ticks\":\"\"}},\"type\":\"scatter3d\"}],\"scattercarpet\":[{\"marker\":{\"colorbar\":{\"outlinewidth\":0,\"ticks\":\"\"}},\"type\":\"scattercarpet\"}],\"scattergeo\":[{\"marker\":{\"colorbar\":{\"outlinewidth\":0,\"ticks\":\"\"}},\"type\":\"scattergeo\"}],\"scattergl\":[{\"marker\":{\"colorbar\":{\"outlinewidth\":0,\"ticks\":\"\"}},\"type\":\"scattergl\"}],\"scattermapbox\":[{\"marker\":{\"colorbar\":{\"outlinewidth\":0,\"ticks\":\"\"}},\"type\":\"scattermapbox\"}],\"scatterpolar\":[{\"marker\":{\"colorbar\":{\"outlinewidth\":0,\"ticks\":\"\"}},\"type\":\"scatterpolar\"}],\"scatterpolargl\":[{\"marker\":{\"colorbar\":{\"outlinewidth\":0,\"ticks\":\"\"}},\"type\":\"scatterpolargl\"}],\"scatterternary\":[{\"marker\":{\"colorbar\":{\"outlinewidth\":0,\"ticks\":\"\"}},\"type\":\"scatterternary\"}],\"surface\":[{\"colorbar\":{\"outlinewidth\":0,\"ticks\":\"\"},\"colorscale\":[[0.0,\"#0d0887\"],[0.1111111111111111,\"#46039f\"],[0.2222222222222222,\"#7201a8\"],[0.3333333333333333,\"#9c179e\"],[0.4444444444444444,\"#bd3786\"],[0.5555555555555556,\"#d8576b\"],[0.6666666666666666,\"#ed7953\"],[0.7777777777777778,\"#fb9f3a\"],[0.8888888888888888,\"#fdca26\"],[1.0,\"#f0f921\"]],\"type\":\"surface\"}],\"table\":[{\"cells\":{\"fill\":{\"color\":\"#EBF0F8\"},\"line\":{\"color\":\"white\"}},\"header\":{\"fill\":{\"color\":\"#C8D4E3\"},\"line\":{\"color\":\"white\"}},\"type\":\"table\"}]},\"layout\":{\"annotationdefaults\":{\"arrowcolor\":\"#2a3f5f\",\"arrowhead\":0,\"arrowwidth\":1},\"autotypenumbers\":\"strict\",\"coloraxis\":{\"colorbar\":{\"outlinewidth\":0,\"ticks\":\"\"}},\"colorscale\":{\"diverging\":[[0,\"#8e0152\"],[0.1,\"#c51b7d\"],[0.2,\"#de77ae\"],[0.3,\"#f1b6da\"],[0.4,\"#fde0ef\"],[0.5,\"#f7f7f7\"],[0.6,\"#e6f5d0\"],[0.7,\"#b8e186\"],[0.8,\"#7fbc41\"],[0.9,\"#4d9221\"],[1,\"#276419\"]],\"sequential\":[[0.0,\"#0d0887\"],[0.1111111111111111,\"#46039f\"],[0.2222222222222222,\"#7201a8\"],[0.3333333333333333,\"#9c179e\"],[0.4444444444444444,\"#bd3786\"],[0.5555555555555556,\"#d8576b\"],[0.6666666666666666,\"#ed7953\"],[0.7777777777777778,\"#fb9f3a\"],[0.8888888888888888,\"#fdca26\"],[1.0,\"#f0f921\"]],\"sequentialminus\":[[0.0,\"#0d0887\"],[0.1111111111111111,\"#46039f\"],[0.2222222222222222,\"#7201a8\"],[0.3333333333333333,\"#9c179e\"],[0.4444444444444444,\"#bd3786\"],[0.5555555555555556,\"#d8576b\"],[0.6666666666666666,\"#ed7953\"],[0.7777777777777778,\"#fb9f3a\"],[0.8888888888888888,\"#fdca26\"],[1.0,\"#f0f921\"]]},\"colorway\":[\"#636efa\",\"#EF553B\",\"#00cc96\",\"#ab63fa\",\"#FFA15A\",\"#19d3f3\",\"#FF6692\",\"#B6E880\",\"#FF97FF\",\"#FECB52\"],\"font\":{\"color\":\"#2a3f5f\"},\"geo\":{\"bgcolor\":\"white\",\"lakecolor\":\"white\",\"landcolor\":\"#E5ECF6\",\"showlakes\":true,\"showland\":true,\"subunitcolor\":\"white\"},\"hoverlabel\":{\"align\":\"left\"},\"hovermode\":\"closest\",\"mapbox\":{\"style\":\"light\"},\"paper_bgcolor\":\"white\",\"plot_bgcolor\":\"#E5ECF6\",\"polar\":{\"angularaxis\":{\"gridcolor\":\"white\",\"linecolor\":\"white\",\"ticks\":\"\"},\"bgcolor\":\"#E5ECF6\",\"radialaxis\":{\"gridcolor\":\"white\",\"linecolor\":\"white\",\"ticks\":\"\"}},\"scene\":{\"xaxis\":{\"backgroundcolor\":\"#E5ECF6\",\"gridcolor\":\"white\",\"gridwidth\":2,\"linecolor\":\"white\",\"showbackground\":true,\"ticks\":\"\",\"zerolinecolor\":\"white\"},\"yaxis\":{\"backgroundcolor\":\"#E5ECF6\",\"gridcolor\":\"white\",\"gridwidth\":2,\"linecolor\":\"white\",\"showbackground\":true,\"ticks\":\"\",\"zerolinecolor\":\"white\"},\"zaxis\":{\"backgroundcolor\":\"#E5ECF6\",\"gridcolor\":\"white\",\"gridwidth\":2,\"linecolor\":\"white\",\"showbackground\":true,\"ticks\":\"\",\"zerolinecolor\":\"white\"}},\"shapedefaults\":{\"line\":{\"color\":\"#2a3f5f\"}},\"ternary\":{\"aaxis\":{\"gridcolor\":\"white\",\"linecolor\":\"white\",\"ticks\":\"\"},\"baxis\":{\"gridcolor\":\"white\",\"linecolor\":\"white\",\"ticks\":\"\"},\"bgcolor\":\"#E5ECF6\",\"caxis\":{\"gridcolor\":\"white\",\"linecolor\":\"white\",\"ticks\":\"\"}},\"title\":{\"x\":0.05},\"xaxis\":{\"automargin\":true,\"gridcolor\":\"white\",\"linecolor\":\"white\",\"ticks\":\"\",\"title\":{\"standoff\":15},\"zerolinecolor\":\"white\",\"zerolinewidth\":2},\"yaxis\":{\"automargin\":true,\"gridcolor\":\"white\",\"linecolor\":\"white\",\"ticks\":\"\",\"title\":{\"standoff\":15},\"zerolinecolor\":\"white\",\"zerolinewidth\":2}}},\"xaxis\":{\"anchor\":\"y\",\"domain\":[0.0,1.0],\"showline\":true,\"linewidth\":1,\"linecolor\":\"black\"},\"yaxis\":{\"anchor\":\"x\",\"domain\":[0.0,1.0]}},                        {\"responsive\": true}                    ).then(function(){\n",
              "                            \n",
              "var gd = document.getElementById('1621255d-696b-408d-967e-9fd0cf86c45b');\n",
              "var x = new MutationObserver(function (mutations, observer) {{\n",
              "        var display = window.getComputedStyle(gd).display;\n",
              "        if (!display || display === 'none') {{\n",
              "            console.log([gd, 'removed!']);\n",
              "            Plotly.purge(gd);\n",
              "            observer.disconnect();\n",
              "        }}\n",
              "}});\n",
              "\n",
              "// Listen for the removal of the full notebook cells\n",
              "var notebookContainer = gd.closest('#notebook-container');\n",
              "if (notebookContainer) {{\n",
              "    x.observe(notebookContainer, {childList: true});\n",
              "}}\n",
              "\n",
              "// Listen for the clearing of the current output cell\n",
              "var outputEl = gd.closest('.output');\n",
              "if (outputEl) {{\n",
              "    x.observe(outputEl, {childList: true});\n",
              "}}\n",
              "\n",
              "                        })                };                            </script>        </div>\n",
              "</body>\n",
              "</html>"
            ]
          },
          "metadata": {}
        }
      ]
    },
    {
      "cell_type": "markdown",
      "source": [
        "microsoft and google have almost same frequency of retweeting while tesla and meta do not retweet much. Most posts retweeted ny google are from the google related accounts."
      ],
      "metadata": {
        "id": "EuNwFS06aaW4"
      }
    },
    {
      "cell_type": "code",
      "source": [
        "freq_indian_retweet=np.array([fq_rt_byjus,fq_rt_flipkart,fq_rt_paytm,fq_rt_zomato])\n",
        "plt.bar(['Byjus','Flipkart','Paytm','Zomato'],freq_indian_retweet,color='orange',edgecolor='black',width=1)\n",
        "plt.xlabel('Indian Unicorn companies')\n",
        "plt.ylabel('Frequency of posting')\n",
        "plt.show"
      ],
      "metadata": {
        "colab": {
          "base_uri": "https://localhost:8080/",
          "height": 296
        },
        "id": "I6nwTiNg6zir",
        "outputId": "4b9a2a3a-86bf-44a7-b3ed-fa38dd52de80"
      },
      "execution_count": null,
      "outputs": [
        {
          "output_type": "execute_result",
          "data": {
            "text/plain": [
              "<function matplotlib.pyplot.show(*args, **kw)>"
            ]
          },
          "metadata": {},
          "execution_count": 56
        },
        {
          "output_type": "display_data",
          "data": {
            "text/plain": [
              "<Figure size 432x288 with 1 Axes>"
            ],
            "image/png": "[encoded data removed]"
          },
          "metadata": {
            "needs_background": "light"
          }
        }
      ]
    },
    {
      "cell_type": "code",
      "source": [
        "print(freq_indian_retweet)\n",
        "print(freq_world_retweet)"
      ],
      "metadata": {
        "colab": {
          "base_uri": "https://localhost:8080/"
        },
        "id": "NIP7qpWHcSXM",
        "outputId": "28a9b248-9e05-462e-e32b-a3628abdee16"
      },
      "execution_count": null,
      "outputs": [
        {
          "output_type": "stream",
          "name": "stdout",
          "text": [
            "[0.         0.19804205 0.         0.        ]\n",
            "[0.15694461 0.15694461 0.         0.        ]\n"
          ]
        }
      ]
    },
    {
      "cell_type": "markdown",
      "source": [
        "Only flipkart retweets other tweets\n"
      ],
      "metadata": {
        "id": "adiW_hAneGXC"
      }
    },
    {
      "cell_type": "code",
      "source": [
        "freq_world_retweet=np.array([fq_rt_google,fq_rt_microsoft,fq_rt_tesla,fq_rt_meta])\n",
        "freq_indian_retweet=np.array([fq_rt_byjus,fq_rt_flipkart,fq_rt_paytm,fq_rt_zomato])\n",
        "avg_world=np.average(freq_world_retweet)\n",
        "avg_india=np.average(freq_indian_retweet)\n",
        "\n",
        "plt.bar(['World top companies','Indian unicorn companies'],[avg_world,avg_india],color='gold',edgecolor='black',width=0.5)\n",
        "plt.xlabel('Company')\n",
        "plt.ylabel('Frequency of posting')\n",
        "plt.show"
      ],
      "metadata": {
        "colab": {
          "base_uri": "https://localhost:8080/",
          "height": 296
        },
        "id": "CQloR0Tf7AlT",
        "outputId": "b8e8c08e-7a6c-48b8-a0fd-1c0bcad760b6"
      },
      "execution_count": null,
      "outputs": [
        {
          "output_type": "execute_result",
          "data": {
            "text/plain": [
              "<function matplotlib.pyplot.show(*args, **kw)>"
            ]
          },
          "metadata": {},
          "execution_count": 57
        },
        {
          "output_type": "display_data",
          "data": {
            "text/plain": [
              "<Figure size 432x288 with 1 Axes>"
            ],
            "image/png": "[encoded data removed]"
          },
          "metadata": {
            "needs_background": "light"
          }
        }
      ]
    },
    {
      "cell_type": "code",
      "source": [
        "# Finding followers of all the companies\n",
        "consumer_key='jd36bYcExtgJcyJ2op6t9VxOw'\n",
        "consumer_secret='hzwvkOMEUQHjMQgZZUsyYFo8GLxBCbZJTcDjy9Y4v7h2IXztoj'"
      ],
      "metadata": {
        "id": "CLIeX-u68irM"
      },
      "execution_count": null,
      "outputs": []
    },
    {
      "cell_type": "code",
      "source": [
        "callback_uri='oob'\n",
        "auth=tweepy.OAuthHandler(consumer_key,consumer_secret,callback_uri)\n",
        "redirect_url=auth.get_authorization_url()\n",
        "print(redirect_url)"
      ],
      "metadata": {
        "colab": {
          "base_uri": "https://localhost:8080/"
        },
        "id": "EK1nDIxA9H3d",
        "outputId": "27cb37d0-0e8f-474f-8913-8ea3829892e2"
      },
      "execution_count": null,
      "outputs": [
        {
          "output_type": "stream",
          "name": "stdout",
          "text": [
            "https://api.twitter.com/oauth/authorize?oauth_token=bQIDNgAAAAABdMrqAAABgvNnxyE\n"
          ]
        }
      ]
    },
    {
      "cell_type": "code",
      "source": [
        "user_pin_input=input(\"Enter the pin value:\")"
      ],
      "metadata": {
        "colab": {
          "base_uri": "https://localhost:8080/"
        },
        "id": "3czJfxXn9XjH",
        "outputId": "ad5d462f-644c-4787-cc0e-0ebb2934cd80"
      },
      "execution_count": null,
      "outputs": [
        {
          "name": "stdout",
          "output_type": "stream",
          "text": [
            "Enter the pin value:tYuEyJsyEjbNIhhllSl88meV8\n"
          ]
        }
      ]
    },
    {
      "cell_type": "code",
      "source": [
        "auth.get_access_token(user_pin_input)"
      ],
      "metadata": {
        "colab": {
          "base_uri": "https://localhost:8080/",
          "height": 432
        },
        "id": "cPszL8Im9cPL",
        "outputId": "3686df9e-85e3-451a-e473-2d5c21d6c1a3"
      },
      "execution_count": null,
      "outputs": [
        {
          "output_type": "error",
          "ename": "TweepError",
          "evalue": "ignored",
          "traceback": [
            "\u001b[0;31m---------------------------------------------------------------------------\u001b[0m",
            "\u001b[0;31mTokenRequestDenied\u001b[0m                        Traceback (most recent call last)",
            "\u001b[0;32m/usr/local/lib/python3.7/dist-packages/tweepy/auth.py\u001b[0m in \u001b[0;36mget_access_token\u001b[0;34m(self, verifier)\u001b[0m\n\u001b[1;32m    107\u001b[0m                                        verifier=verifier, callback_uri=self.callback)\n\u001b[0;32m--> 108\u001b[0;31m             \u001b[0mresp\u001b[0m \u001b[0;34m=\u001b[0m \u001b[0mself\u001b[0m\u001b[0;34m.\u001b[0m\u001b[0moauth\u001b[0m\u001b[0;34m.\u001b[0m\u001b[0mfetch_access_token\u001b[0m\u001b[0;34m(\u001b[0m\u001b[0murl\u001b[0m\u001b[0;34m)\u001b[0m\u001b[0;34m\u001b[0m\u001b[0;34m\u001b[0m\u001b[0m\n\u001b[0m\u001b[1;32m    109\u001b[0m             \u001b[0mself\u001b[0m\u001b[0;34m.\u001b[0m\u001b[0maccess_token\u001b[0m \u001b[0;34m=\u001b[0m \u001b[0mresp\u001b[0m\u001b[0;34m[\u001b[0m\u001b[0;34m'oauth_token'\u001b[0m\u001b[0;34m]\u001b[0m\u001b[0;34m\u001b[0m\u001b[0;34m\u001b[0m\u001b[0m\n",
            "\u001b[0;32m/usr/local/lib/python3.7/dist-packages/requests_oauthlib/oauth1_session.py\u001b[0m in \u001b[0;36mfetch_access_token\u001b[0;34m(self, url, verifier, **request_kwargs)\u001b[0m\n\u001b[1;32m    322\u001b[0m             \u001b[0;32mraise\u001b[0m \u001b[0mVerifierMissing\u001b[0m\u001b[0;34m(\u001b[0m\u001b[0;34m\"No client verifier has been set.\"\u001b[0m\u001b[0;34m)\u001b[0m\u001b[0;34m\u001b[0m\u001b[0;34m\u001b[0m\u001b[0m\n\u001b[0;32m--> 323\u001b[0;31m         \u001b[0mtoken\u001b[0m \u001b[0;34m=\u001b[0m \u001b[0mself\u001b[0m\u001b[0;34m.\u001b[0m\u001b[0m_fetch_token\u001b[0m\u001b[0;34m(\u001b[0m\u001b[0murl\u001b[0m\u001b[0;34m,\u001b[0m \u001b[0;34m**\u001b[0m\u001b[0mrequest_kwargs\u001b[0m\u001b[0;34m)\u001b[0m\u001b[0;34m\u001b[0m\u001b[0;34m\u001b[0m\u001b[0m\n\u001b[0m\u001b[1;32m    324\u001b[0m         \u001b[0mlog\u001b[0m\u001b[0;34m.\u001b[0m\u001b[0mdebug\u001b[0m\u001b[0;34m(\u001b[0m\u001b[0;34m\"Resetting verifier attribute, should not be used anymore.\"\u001b[0m\u001b[0;34m)\u001b[0m\u001b[0;34m\u001b[0m\u001b[0;34m\u001b[0m\u001b[0m\n",
            "\u001b[0;32m/usr/local/lib/python3.7/dist-packages/requests_oauthlib/oauth1_session.py\u001b[0m in \u001b[0;36m_fetch_token\u001b[0;34m(self, url, **request_kwargs)\u001b[0m\n\u001b[1;32m    368\u001b[0m             \u001b[0merror\u001b[0m \u001b[0;34m=\u001b[0m \u001b[0;34m\"Token request failed with code %s, response was '%s'.\"\u001b[0m\u001b[0;34m\u001b[0m\u001b[0;34m\u001b[0m\u001b[0m\n\u001b[0;32m--> 369\u001b[0;31m             \u001b[0;32mraise\u001b[0m \u001b[0mTokenRequestDenied\u001b[0m\u001b[0;34m(\u001b[0m\u001b[0merror\u001b[0m \u001b[0;34m%\u001b[0m \u001b[0;34m(\u001b[0m\u001b[0mr\u001b[0m\u001b[0;34m.\u001b[0m\u001b[0mstatus_code\u001b[0m\u001b[0;34m,\u001b[0m \u001b[0mr\u001b[0m\u001b[0;34m.\u001b[0m\u001b[0mtext\u001b[0m\u001b[0;34m)\u001b[0m\u001b[0;34m,\u001b[0m \u001b[0mr\u001b[0m\u001b[0;34m)\u001b[0m\u001b[0;34m\u001b[0m\u001b[0;34m\u001b[0m\u001b[0m\n\u001b[0m\u001b[1;32m    370\u001b[0m \u001b[0;34m\u001b[0m\u001b[0m\n",
            "\u001b[0;31mTokenRequestDenied\u001b[0m: Token request failed with code 401, response was 'Error processing your OAuth request: Invalid oauth_verifier parameter'.",
            "\nDuring handling of the above exception, another exception occurred:\n",
            "\u001b[0;31mTweepError\u001b[0m                                Traceback (most recent call last)",
            "\u001b[0;32m<ipython-input-61-8a2fa7b640dc>\u001b[0m in \u001b[0;36m<module>\u001b[0;34m\u001b[0m\n\u001b[0;32m----> 1\u001b[0;31m \u001b[0mauth\u001b[0m\u001b[0;34m.\u001b[0m\u001b[0mget_access_token\u001b[0m\u001b[0;34m(\u001b[0m\u001b[0muser_pin_input\u001b[0m\u001b[0;34m)\u001b[0m\u001b[0;34m\u001b[0m\u001b[0;34m\u001b[0m\u001b[0m\n\u001b[0m",
            "\u001b[0;32m/usr/local/lib/python3.7/dist-packages/tweepy/auth.py\u001b[0m in \u001b[0;36mget_access_token\u001b[0;34m(self, verifier)\u001b[0m\n\u001b[1;32m    111\u001b[0m             \u001b[0;32mreturn\u001b[0m \u001b[0mself\u001b[0m\u001b[0;34m.\u001b[0m\u001b[0maccess_token\u001b[0m\u001b[0;34m,\u001b[0m \u001b[0mself\u001b[0m\u001b[0;34m.\u001b[0m\u001b[0maccess_token_secret\u001b[0m\u001b[0;34m\u001b[0m\u001b[0;34m\u001b[0m\u001b[0m\n\u001b[1;32m    112\u001b[0m         \u001b[0;32mexcept\u001b[0m \u001b[0mException\u001b[0m \u001b[0;32mas\u001b[0m \u001b[0me\u001b[0m\u001b[0;34m:\u001b[0m\u001b[0;34m\u001b[0m\u001b[0;34m\u001b[0m\u001b[0m\n\u001b[0;32m--> 113\u001b[0;31m             \u001b[0;32mraise\u001b[0m \u001b[0mTweepError\u001b[0m\u001b[0;34m(\u001b[0m\u001b[0me\u001b[0m\u001b[0;34m)\u001b[0m\u001b[0;34m\u001b[0m\u001b[0;34m\u001b[0m\u001b[0m\n\u001b[0m\u001b[1;32m    114\u001b[0m \u001b[0;34m\u001b[0m\u001b[0m\n\u001b[1;32m    115\u001b[0m     \u001b[0;32mdef\u001b[0m \u001b[0mget_xauth_access_token\u001b[0m\u001b[0;34m(\u001b[0m\u001b[0mself\u001b[0m\u001b[0;34m,\u001b[0m \u001b[0musername\u001b[0m\u001b[0;34m,\u001b[0m \u001b[0mpassword\u001b[0m\u001b[0;34m)\u001b[0m\u001b[0;34m:\u001b[0m\u001b[0;34m\u001b[0m\u001b[0;34m\u001b[0m\u001b[0m\n",
            "\u001b[0;31mTweepError\u001b[0m: Token request failed with code 401, response was 'Error processing your OAuth request: Invalid oauth_verifier parameter'."
          ]
        }
      ]
    },
    {
      "cell_type": "code",
      "source": [
        "api=tweepy.API(auth)"
      ],
      "metadata": {
        "id": "0WB0KYzI9hLR"
      },
      "execution_count": null,
      "outputs": []
    },
    {
      "cell_type": "code",
      "source": [
        "def getFollowers(screen_name):\n",
        "  user=api.get_user(screen_name)\n",
        "  return(user.followers_count)"
      ],
      "metadata": {
        "id": "jVmRVtit-COI"
      },
      "execution_count": null,
      "outputs": []
    },
    {
      "cell_type": "code",
      "source": [
        "'''print(\"The followers of top world companies are:\")\n",
        "print(\"Google:\"+ str(getFollowers('Google')))\n",
        "print(\"Microsoft:\"+ str(getFollowers('microsoft')))\n",
        "print(\"Tesla:\"+ str(getFollowers('Tesla')))\n",
        "print(\"Meta:\"+ str(getFollowers('Meta')))\n",
        "print(\"The followers of indian Unicorn companies are:\")\n",
        "print(\"Byjus:\"+ str(getFollowers('BYJUS')))\n",
        "print(\"Paytm:\"+ str(getFollowers('Paytm')))\n",
        "print(\"Flipkart:\"+ str(getFollowers('Flipkart')))\n",
        "print(\"Zomato:\"+ str(getFollowers('zomato')))'''"
      ],
      "metadata": {
        "id": "CnHtXChE2G6M"
      },
      "execution_count": null,
      "outputs": []
    },
    {
      "cell_type": "code",
      "source": [
        "Companies=['Google','Microsoft','Tesla','Meta','Byjus','Flipkart','Paytm','Zomato']\n",
        "Followers=[26262224,11123100,16454466,13881233,17887,2806033,1329237,1548736]\n",
        "followersDict={Companies[i]:format(math.log(Followers[i]),'0.2f') for i in range(len(Companies))}\n",
        "print(followersDict)"
      ],
      "metadata": {
        "colab": {
          "base_uri": "https://localhost:8080/"
        },
        "id": "pCRQcAZ41gIs",
        "outputId": "e0acd272-126a-4247-90c8-996eb187de59"
      },
      "execution_count": null,
      "outputs": [
        {
          "output_type": "stream",
          "name": "stdout",
          "text": [
            "{'Google': '17.08', 'Microsoft': '16.22', 'Tesla': '16.62', 'Meta': '16.45', 'Byjus': '9.79', 'Flipkart': '14.85', 'Paytm': '14.10', 'Zomato': '14.25'}\n"
          ]
        }
      ]
    },
    {
      "cell_type": "code",
      "source": [
        "pltFollowers_world=[float(format(math.log(Followers[x]),'0.2f')) for x in range(0,4)]\n",
        "#plt.bar(['Google','Microsoft','Tesla','Meta'],pltFollowers,width=0.1)\n",
        "plt.barh(['Google','Microsoft','Tesla','Meta'], pltFollowers_world,edgecolor='black')\n",
        "for index, value in enumerate(pltFollowers_world):\n",
        "    plt.text(value, index,str(value))\n",
        "plt.xlabel('Top world companies')\n",
        "plt.ylabel('Average followers count')\n",
        "plt.show\n"
      ],
      "metadata": {
        "colab": {
          "base_uri": "https://localhost:8080/",
          "height": 296
        },
        "id": "NbtbTeTK-wdQ",
        "outputId": "aa4f0311-7766-44e7-c3f1-a43a724f90bc"
      },
      "execution_count": null,
      "outputs": [
        {
          "output_type": "execute_result",
          "data": {
            "text/plain": [
              "<function matplotlib.pyplot.show(*args, **kw)>"
            ]
          },
          "metadata": {},
          "execution_count": 63
        },
        {
          "output_type": "display_data",
          "data": {
            "text/plain": [
              "<Figure size 432x288 with 1 Axes>"
            ],
            "image/png": "[encoded data removed]"
          },
          "metadata": {
            "needs_background": "light"
          }
        }
      ]
    },
    {
      "cell_type": "code",
      "source": [
        "pltFollowers_indian=[float(format(math.log(Followers[x]),'0.2f')) for x in range(4,8)]\n",
        "#plt.bar(['Byjus','Filpkart','Paytm','Zomato'],pltFollowers,width=0.1)\n",
        "plt.barh(['Byjus','Filpkart','Paytm','Zomato'], pltFollowers_indian,color='orange',edgecolor='black')\n",
        "for index, value in enumerate(pltFollowers_indian):\n",
        "    plt.text(value, index,str(value))\n",
        "plt.xlabel('Indian unicorn companies companies')\n",
        "plt.ylabel('Average followers count')\n",
        "plt.show\n"
      ],
      "metadata": {
        "id": "kICZENGD-g3n",
        "colab": {
          "base_uri": "https://localhost:8080/",
          "height": 296
        },
        "outputId": "1caab65f-596b-4e2b-8635-b824aebf6660"
      },
      "execution_count": null,
      "outputs": [
        {
          "output_type": "execute_result",
          "data": {
            "text/plain": [
              "<function matplotlib.pyplot.show(*args, **kw)>"
            ]
          },
          "metadata": {},
          "execution_count": 64
        },
        {
          "output_type": "display_data",
          "data": {
            "text/plain": [
              "<Figure size 432x288 with 1 Axes>"
            ],
            "image/png": "[encoded data removed]"
          },
          "metadata": {
            "needs_background": "light"
          }
        }
      ]
    },
    {
      "cell_type": "markdown",
      "source": [
        "**Some plots for some comparisons**"
      ],
      "metadata": {
        "id": "JWtDvvW1SADg"
      }
    },
    {
      "cell_type": "code",
      "source": [
        "print(freq_world_replies)\n",
        "print(freq_indian_replies)"
      ],
      "metadata": {
        "id": "dsYhPpAZDk09",
        "colab": {
          "base_uri": "https://localhost:8080/"
        },
        "outputId": "e650aa5a-c201-4b78-dc6e-4bf2eb54bb9b"
      },
      "execution_count": null,
      "outputs": [
        {
          "output_type": "stream",
          "name": "stdout",
          "text": [
            "[0.86323326 0.55302872 0.         0.27798716]\n",
            "[0.         0.31388923 0.3960841  0.        ]\n"
          ]
        }
      ]
    },
    {
      "cell_type": "code",
      "source": [
        "barWidth = 0.25\n",
        "fig = plt.subplots(figsize =(12, 8))\n",
        "\n",
        "\n",
        "\n",
        "br1 = np.arange(len([*freq_world_replies,*freq_indian_replies]))\n",
        "br2 = [x + barWidth for x in br1]\n",
        "\n",
        "plt.bar(br1,[*freq_world_replies,*freq_indian_replies], color ='orange', width = barWidth,edgecolor='black', label ='Replies')\n",
        "plt.bar(br2, [*pltFollowers_world,*pltFollowers_indian], color ='pink', width = barWidth,edgecolor='black', label ='Followers(in million)')\n",
        "\n",
        "\n",
        "plt.xlabel('Companies', fontweight ='bold', fontsize = 15)\n",
        "plt.ylabel('Values', fontweight ='bold', fontsize = 15)\n",
        "plt.xticks([r + barWidth for r in range(len([*freq_world_replies,*freq_indian_replies]))],[*topWorldCompanies,*indianUnicorns])\n",
        "\n",
        "plt.legend()\n",
        "plt.show()"
      ],
      "metadata": {
        "colab": {
          "base_uri": "https://localhost:8080/",
          "height": 502
        },
        "id": "LDvcodHwR_bp",
        "outputId": "ac53470f-1611-43cf-a285-1468c327fdcb"
      },
      "execution_count": null,
      "outputs": [
        {
          "output_type": "display_data",
          "data": {
            "text/plain": [
              "<Figure size 864x576 with 1 Axes>"
            ],
            "image/png": "[encoded data removed]"
          },
          "metadata": {
            "needs_background": "light"
          }
        }
      ]
    },
    {
      "cell_type": "markdown",
      "source": [
        "# **Overall Twitter activity**"
      ],
      "metadata": {
        "id": "8gleimEW2NML"
      }
    },
    {
      "cell_type": "code",
      "source": [
        "def retweet_count(path):\n",
        "  normal=os.path.normpath(path)\n",
        "  count=0\n",
        "  df=pd.read_csv(normal)\n",
        "  num_rows=df.shape[0]\n",
        "  for i in range (0,num_rows):\n",
        "      count+=1\n",
        "  if(count==0):\n",
        "    return count\n",
        "  else:\n",
        "    return math.log(count)\n",
        "def freq(count):\n",
        "  return count/7"
      ],
      "metadata": {
        "id": "uxSvTg7TaDCb"
      },
      "execution_count": null,
      "outputs": []
    },
    {
      "cell_type": "code",
      "source": [
        "oa_tweet_google=retweet_count('/content/drive/MyDrive/ACM/google_tweets.csv')\n",
        "freq_google=freq(oa_tweet_google)\n",
        "oa_tweet_microsoft=retweet_count('/content/drive/MyDrive/ACM/microsoft_tweets.csv')\n",
        "freq_microsoft=freq(oa_tweet_microsoft)\n",
        "oa_tweet_tesla=retweet_count('/content/drive/MyDrive/ACM/tesla_tweets.csv')\n",
        "freq_tesla=freq(oa_tweet_tesla)\n",
        "oa_tweet_meta=retweet_count('/content/drive/MyDrive/ACM/meta_tweets.csv')\n",
        "freq_meta=freq(oa_tweet_meta)\n",
        "oa_tweet_byjus=retweet_count('/content/drive/MyDrive/ACM/byjus_tweets.csv')\n",
        "freq_byjus=freq(oa_tweet_byjus)\n",
        "oa_tweet_flipkart=retweet_count('/content/drive/MyDrive/ACM/flipkart_tweets.csv')\n",
        "freq_flipkart=freq(oa_tweet_flipkart)\n",
        "oa_tweet_paytm=retweet_count('/content/drive/MyDrive/ACM/paytm_tweets.csv')\n",
        "freq_paytm=freq(oa_tweet_paytm)\n",
        "oa_tweet_zomato=retweet_count('/content/drive/MyDrive/ACM/zomato_tweets.csv')\n",
        "freq_zomato=freq(oa_tweet_zomato)"
      ],
      "metadata": {
        "id": "suIbxbyPi0Xc"
      },
      "execution_count": null,
      "outputs": []
    },
    {
      "cell_type": "code",
      "source": [
        "freq=[freq_google,freq_microsoft,freq_tesla,freq_meta,freq_byjus,freq_flipkart,freq_paytm,freq_zomato]\n",
        "barWidth = 0.25\n",
        "fig = plt.subplots(figsize =(12, 8))\n",
        "\n",
        "br1 = np.arange(len(freq))\n",
        "br2 = [x + barWidth for x in br1]\n",
        "\n",
        "plt.bar(br1,freq, color ='r', width = barWidth,edgecolor ='grey', label ='Activity')\n",
        "plt.bar(br2, [*pltFollowers_world,*pltFollowers_indian], color ='g', width = barWidth,edgecolor ='grey', label ='Followers')\n",
        "\n",
        "plt.xlabel('Companies', fontweight ='bold', fontsize = 15)\n",
        "plt.ylabel('Values', fontweight ='bold', fontsize = 15)\n",
        "plt.xticks([r + barWidth for r in range(len(freq))],[*topWorldCompanies,*indianUnicorns])\n",
        "\n",
        "plt.legend()\n",
        "plt.show()"
      ],
      "metadata": {
        "id": "_wQrTvTo5i-O",
        "colab": {
          "base_uri": "https://localhost:8080/",
          "height": 502
        },
        "outputId": "73649854-5246-4783-e15c-13d1e23d3e35"
      },
      "execution_count": null,
      "outputs": [
        {
          "output_type": "display_data",
          "data": {
            "text/plain": [
              "<Figure size 864x576 with 1 Axes>"
            ],
            "image/png": "[encoded data removed]"
          },
          "metadata": {
            "needs_background": "light"
          }
        }
      ]
    },
    {
      "cell_type": "markdown",
      "source": [],
      "metadata": {
        "id": "lwfyMMv41CUj"
      }
    },
    {
      "cell_type": "markdown",
      "source": [
        "## ***What time zones do organizations work in? Do they only work in there local time zones?***"
      ],
      "metadata": {
        "id": "zR-pwLR-rHV2"
      }
    },
    {
      "cell_type": "markdown",
      "source": [
        "since the time extracted  was in utc , below it is converted into their respective timezones"
      ],
      "metadata": {
        "id": "gH8UcWTn9OBV"
      }
    },
    {
      "cell_type": "code",
      "source": [
        "def post(l):                  #for extraction of time from datetime\n",
        "  l1=[]\n",
        "  for i in l:\n",
        "    obj=datetime.strptime(i,\"%d-%m-%Y %H:%M:%S\")\n",
        "    time=obj.time()\n",
        "    l1.append(time)\n",
        "  d={\"00:00:00\":0,\"04:00:00\":0,\"08:00:00\":0,\"12:00:00\":0,\"16:00:00\":0,\"20:00:00\":0}\n",
        "  m=list(d)\n",
        "  for i in l1:\n",
        "    if(i>datetime.strptime(m[0],\"%H:%M:%S\").time() and i<datetime.strptime(m[1],\"%H:%M:%S\").time()):\n",
        "      d['00:00:00']=1+d[\"00:00:00\"]\n",
        "    elif(i>datetime.strptime(m[1],\"%H:%M:%S\").time() and i<datetime.strptime(m[2],\"%H:%M:%S\").time()):\n",
        "      d['04:00:00']=1+d[\"04:00:00\"]\n",
        "    elif(i>datetime.strptime(m[2],\"%H:%M:%S\").time() and i<datetime.strptime(m[3],\"%H:%M:%S\").time()):\n",
        "      d['08:00:00']=1+d[\"08:00:00\"]\n",
        "    elif(i>datetime.strptime(m[3],\"%H:%M:%S\").time() and i<datetime.strptime(m[4],\"%H:%M:%S\").time()):\n",
        "      d['12:00:00']=1+d[\"12:00:00\"]\n",
        "    elif(i>datetime.strptime(m[4],\"%H:%M:%S\").time() and i<datetime.strptime(m[5],\"%H:%M:%S\").time()):\n",
        "      d['16:00:00']=1+d[\"16:00:00\"]\n",
        "    else:\n",
        "      d['20:00:00']=1+d[\"20:00:00\"]\n",
        "  return d\n",
        "\n",
        "\n",
        "def datetimeusp(m1):        #Conversion of time from utc to us pacific timezone\n",
        "  l=[]\n",
        "  t=m1['Date_Time']\n",
        "  for i in t:\n",
        "    m=datetime.strptime(i, '%d-%m-%Y %H:%M').replace(\n",
        "    tzinfo=timezone.utc).astimezone(pytz.timezone('US/Pacific')).strftime(\n",
        "    '%d-%m-%Y %H:%M:%S')\n",
        "    l.append(m)\n",
        "  return l\n",
        "\n",
        "def datetimeusc(m1):      #Conversion of time from utc to us central timezone\n",
        "  l=[]\n",
        "  t=m1['Date_Time']\n",
        "  for i in t:\n",
        "    m=datetime.strptime(i, '%d-%m-%Y %H:%M').replace(\n",
        "    tzinfo=timezone.utc).astimezone(pytz.timezone('US/Central')).strftime(\n",
        "    '%d-%m-%Y %H:%M:%S')\n",
        "    l.append(m)\n",
        "  return l\n",
        "\n",
        "def datetimein(m1):         #Conversion of time from utc to indian timezone\n",
        "  l=[]\n",
        "  t=m1['Date_Time']\n",
        "  for i in t:\n",
        "    m=datetime.strptime(i, '%d-%m-%Y %H:%M').replace(\n",
        "    tzinfo=timezone.utc).astimezone(pytz.timezone('Asia/Kolkata')).strftime(\n",
        "    '%d-%m-%Y %H:%M:%S')\n",
        "    l.append(m)\n",
        "  return l\n",
        "\n"
      ],
      "metadata": {
        "id": "4KOl_BaS2xfd"
      },
      "execution_count": null,
      "outputs": []
    },
    {
      "cell_type": "code",
      "source": [
        "microsoft=os.path.normpath('/content/drive/MyDrive/ACM/microsoft_tweets.csv')\n",
        "meta=os.path.normpath('/content/drive/MyDrive/ACM/meta_tweets.csv')\n",
        "google=os.path.normpath('/content/drive/MyDrive/ACM/google_tweets.csv')\n",
        "tesla=os.path.normpath('/content/drive/MyDrive/ACM/tesla_tweets.csv')\n",
        "flipkart=os.path.normpath('/content/drive/MyDrive/ACM/flipkart_tweets.csv')\n",
        "zomato=os.path.normpath('/content/drive/MyDrive/ACM/zomato_tweets.csv')\n",
        "paytm=os.path.normpath('/content/drive/MyDrive/ACM/paytm_tweets.csv')\n",
        "byjus=os.path.normpath('/content/drive/MyDrive/ACM/byjus_tweets.csv')\n",
        "f=pd.read_csv(microsoft)\n",
        "f2=pd.read_csv(microsoft)\n",
        "f3=pd.read_csv(microsoft)\n",
        "f4=pd.read_csv(microsoft)\n",
        "f5=pd.read_csv(microsoft)\n",
        "f6=pd.read_csv(microsoft)\n",
        "f7=pd.read_csv(microsoft)\n",
        "f8=pd.read_csv(microsoft)"
      ],
      "metadata": {
        "id": "hO4NQ61w4whn"
      },
      "execution_count": null,
      "outputs": []
    },
    {
      "cell_type": "code",
      "source": [
        "#Code for conversion of the tweets into their respective timezones and storing them into a new csv file\n",
        "\n",
        "'''mic=datetimeusp(f)\n",
        "freqmi=post(mic)\n",
        "freqmi[\"User\"]=\"Microsoft\"\n",
        "l2.append(freqmi)\n",
        "print(l2)\n",
        "\n",
        "gt=datetimeusp(f3)\n",
        "freqg=post(gt)\n",
        "print(freqg)\n",
        "freqg[\"User\"]=\"Google\"\n",
        "l2.append(freqg)\n",
        "print(l2)\n",
        "\n",
        "met=datetimeusp(f1)\n",
        "freqme=post(met)\n",
        "print(freqme)\n",
        "freqme[\"User\"]=\"Meta\"\n",
        "l2.append(freqme)\n",
        "print(l2)\n",
        "\n",
        "tt=datetimeusc(f4)\n",
        "freqt=post(tt)\n",
        "print(freqt)\n",
        "freqt[\"User\"]=\"Tesla\"\n",
        "l2.append(freqt)\n",
        "print(l2)\n",
        "\n",
        "z=datetimein(f6)\n",
        "freqz=post(z)\n",
        "print(freqz)\n",
        "freqz[\"User\"]=\"Zomato\"\n",
        "l2.append(freqz)\n",
        "print(l2)\n",
        "\n",
        "p=datetimein(f7)\n",
        "freqp=post(p)\n",
        "print(freqp)\n",
        "freqp[\"User\"]=\"Paytm\"\n",
        "l2.append(freqp)\n",
        "print(l2)\n",
        "\n",
        "b=datetimein(f8)\n",
        "freqb=post(b)\n",
        "print(freqb)\n",
        "freqb[\"User\"]=\"Byjus\"\n",
        "l2.append(freqb)\n",
        "print(l2)\n",
        "\n",
        "'''"
      ],
      "metadata": {
        "id": "D4lw1ewX51h3"
      },
      "execution_count": null,
      "outputs": []
    },
    {
      "cell_type": "markdown",
      "source": [
        "BarPlot of all the companies together"
      ],
      "metadata": {
        "id": "q1fUc63b9zuD"
      }
    },
    {
      "cell_type": "code",
      "source": [
        "plot=os.path.normpath('/content/drive/MyDrive/ACM/time.csv')\n",
        "df=pd.read_csv(plot)\n",
        "d={}\n",
        "l=[]\n",
        "for i in df['Byjus']:\n",
        "  if(i==0):\n",
        "    l.append(i)\n",
        "  else:\n",
        "    l.append(format(math.log(i),'0.2f'))\n",
        "d['Byjus']=l\n",
        "l=[]\n",
        "for i in df['Flipkart']:\n",
        "  if(i==0):\n",
        "    l.append(i)\n",
        "  else:\n",
        "    l.append(format(math.log(i),'0.2f'))\n",
        "d['Flipkart']=l\n",
        "l=[]\n",
        "for i in df['Zomato']:\n",
        "  if(i==0):\n",
        "    l.append(i)\n",
        "  else:\n",
        "    l.append(format(math.log(i),'0.2f'))\n",
        "d['Zomato']=l\n",
        "l=[]\n",
        "for i in df['Paytm']:\n",
        "  if(i==0):\n",
        "    l.append(i)\n",
        "  else:\n",
        "    l.append(format(math.log(i),'0.2f'))\n",
        "d['Paytm']=l\n",
        "l=[]\n",
        "for i in df['Microsoft']:\n",
        "  if(i==0):\n",
        "    l.append(i)\n",
        "  else:\n",
        "    l.append(format(math.log(i),'0.2f'))\n",
        "d['Microsoft']=l\n",
        "l=[]\n",
        "for i in df['Meta']:\n",
        "  if(i==0):\n",
        "    l.append(i)\n",
        "  else:\n",
        "    l.append(format(math.log(i),'0.2f'))\n",
        "d['Meta']=l\n",
        "l=[]\n",
        "for i in df['Google']:\n",
        "  if(i==0):\n",
        "    l.append(i)\n",
        "  else:\n",
        "    l.append(format(math.log(i),'0.2f'))\n",
        "d['Google']=l\n",
        "l=[]\n",
        "for i in df['Tesla']:\n",
        "  if(i==0):\n",
        "    l.append(i)\n",
        "  else:\n",
        "    l.append(format(math.log(i),'0.2f'))\n",
        "d['Tesla']=l\n",
        "print(d)"
      ],
      "metadata": {
        "id": "8A27gWaMHoWQ"
      },
      "execution_count": null,
      "outputs": []
    },
    {
      "cell_type": "code",
      "source": [
        "l=np.array(d)\n",
        "t=[]\n",
        "for i in l:\n",
        "  t.append(float(format(sum(i),'0.2f')))\n",
        "\n",
        "print(t)"
      ],
      "metadata": {
        "id": "SqsTImkvFxJU"
      },
      "execution_count": null,
      "outputs": []
    },
    {
      "cell_type": "code",
      "source": [
        "\n",
        "fig = make_subplots(\n",
        "    rows=1, cols=1,\n",
        "    subplot_titles=(\"\"))\n",
        "post=t\n",
        "time=[\"0000\",\"0400\",\"0800\",\"1200\",\"1600\",\"2000\"]\n",
        "fig.add_trace(go.Bar(x=time,y=post, text=\"frequency of posting\",textposition='outside',showlegend=False,\n",
        "          marker=dict(color=['#d5a036', '#1984c5']*4,line=dict(width=1.5, color='#000000'), opacity=0.9)),row=1, col=1)\n",
        "\n",
        "fig.update_layout(title_x=0.5,title_text=\"Net Preferred time of posting\", height=450,font_family='Verdana',\n",
        "                 font=dict(family=\"Verdana,Verdana\",size=13),paper_bgcolor='#edeae7',plot_bgcolor='#edeae7')\n",
        "\n",
        "fig.update_traces(textfont_size=14, textangle=0, textposition=\"outside\", cliponaxis=False,\n",
        "                 marker_line_width=1.5,marker_line_color=\"black\")\n",
        "\n",
        "fig.update_xaxes(showline=True, linewidth=1, linecolor='black')\n",
        "\n",
        "fig.show()"
      ],
      "metadata": {
        "id": "IG2IV-dBKmXn"
      },
      "execution_count": null,
      "outputs": []
    },
    {
      "cell_type": "code",
      "source": [
        "import csv\n",
        "fieldnames = ['Byjus','Flipkart','Zomato','Paytm','Microsoft','Meta','Google','Tesla']\n",
        "with open('time.csv', 'w', newline='') as f:\n",
        "    writer = csv.writer(f)\n",
        "    writer.writerow(d.keys())\n",
        "    writer.writerows(zip(*d.values()))"
      ],
      "metadata": {
        "id": "cSUzftfLOlqr"
      },
      "execution_count": null,
      "outputs": []
    },
    {
      "cell_type": "code",
      "source": [
        "d=pd.read_csv('time.csv')\n",
        "barWidth = 0.1\n",
        "fig = plt.subplots(figsize =(15, 5))\n",
        "\n",
        "# set height of bar\n",
        "# Set position of bar on X axis\n",
        "br1 = np.arange(len(d['Microsoft']))\n",
        "br2 = [x + barWidth for x in br1]\n",
        "br3 = [x + barWidth for x in br2]\n",
        "br4 = [x + barWidth for x in br3]\n",
        "br5 = [x + barWidth for x in br4]\n",
        "br6 = [x + barWidth for x in br5]\n",
        "br7 = [x + barWidth for x in br6]\n",
        "br8 = [x + barWidth for x in br7]\n",
        "\n",
        "# Make the plot\n",
        "plt.bar(br1,d['Microsoft'] , color ='r', width = barWidth,\n",
        "        edgecolor ='black', label ='Microsoft')\n",
        "plt.bar(br2, d['Meta'], color ='g', width = barWidth,\n",
        "        edgecolor ='black', label ='Meta')\n",
        "plt.bar(br3,d['Google'], color ='b', width = barWidth,\n",
        "        edgecolor ='black', label ='Google')\n",
        "plt.bar(br4,d['Tesla'], color ='y', width = barWidth,\n",
        "        edgecolor ='black', label ='Tesla')\n",
        "plt.bar(br5,d['Flipkart'], color ='m', width = barWidth,\n",
        "        edgecolor ='black', label ='Flipkart')\n",
        "plt.bar(br6,d['Zomato'], color ='c', width = barWidth,\n",
        "        edgecolor ='black', label ='Zomato')\n",
        "plt.bar(br7,d['Paytm'], color ='k', width = barWidth,\n",
        "        edgecolor ='black', label ='Paytm')\n",
        "plt.bar(br8,d['Byjus'], color ='orange', width = barWidth,\n",
        "        edgecolor ='black', label ='Byjus')\n",
        "\n",
        "# Adding Xticks\n",
        "plt.xlabel('Time', fontweight ='bold', fontsize = 15)\n",
        "plt.ylabel('Total Posts', fontweight ='bold', fontsize = 15)\n",
        "plt.xticks([r + barWidth for r in range(6)],\n",
        "        [\"0000\",\"0400\",\"0800\",\"1200\",\"1600\",\"2000\"])\n",
        "\n",
        "plt.legend()\n",
        "plt.show()"
      ],
      "metadata": {
        "id": "vQ7l6dUeMt5s"
      },
      "execution_count": null,
      "outputs": []
    },
    {
      "cell_type": "code",
      "source": [
        "plot=os.path.normpath('/content/drive/MyDrive/ACM/time.csv')\n",
        "d=pd.read_csv(plot)\n",
        "\n",
        "d.plot.scatter(x='Tming',y='Microsoft',s=[(i+3)*10 for i in d['Microsoft']])"
      ],
      "metadata": {
        "id": "9J8rJDlIfnq9"
      },
      "execution_count": null,
      "outputs": []
    },
    {
      "cell_type": "code",
      "source": [
        "plot=os.path.normpath('/content/drive/MyDrive/ACM/time.csv')\n",
        "d=pd.read_csv(plot)\n",
        "\n",
        "plt.scatter(d['Tming'],[1]*6,s=[(i+0.1)*10 for i in d['Microsoft']],label='Microsoft')\n",
        "plt.scatter(d['Tming'],[2]*6,s=[(i+0.1)*10 for i in d['Google']],label='Google')\n",
        "plt.scatter(d['Tming'],[3]*6,s=[(i+0.1)*10 for i in d['Tesla']],label='Tesla')\n",
        "plt.scatter(d['Tming'],[4]*6,s=[(i+0.1)*10 for i in d['Meta']],label='Meta')\n",
        "plt.scatter(d['Tming'],[5]*6,s=[(i+0.1)*10 for i in d['Flipkart']],label='Flipkart')\n",
        "plt.scatter(d['Tming'],[6]*6,s=[(i+0.1)*10 for i in d['Paytm']],label='Paytm')\n",
        "plt.scatter(d['Tming'],[7]*6,s=[(i+0.1)*10 for i in d['Byjus']],label='Byjus')\n",
        "plt.scatter(d['Tming'],[8]*6,s=[(i+0.1)*10 for i in d['Zomato']],label='Zomato')\n",
        "plt.xlabel('Time')\n",
        "plt.ylabel('count')\n",
        "lgnd=plt.legend(loc='upper right',bbox_to_anchor =(1.35, 1.25))\n",
        "lgnd.legendHandles[0]._sizes = [30]\n",
        "lgnd.legendHandles[1]._sizes = [30]\n",
        "lgnd.legendHandles[4]._sizes = [30]\n",
        "lgnd.legendHandles[5]._sizes = [30]\n",
        "\n",
        "\n",
        "plt.show()"
      ],
      "metadata": {
        "id": "3FA7XBtadOeT"
      },
      "execution_count": null,
      "outputs": []
    },
    {
      "cell_type": "code",
      "source": [
        "plt.figure(figsize=(15,8))\n",
        "plot=os.path.normpath('/content/drive/MyDrive/ACM/time.csv')\n",
        "d=pd.read_csv(plot)\n",
        "\n",
        "post=np.array([d['Meta'],d['Microsoft'],d['Google'],d['Tesla'],d['Flipkart'],d['Byjus'],d['Paytm'],d['Zomato']])\n",
        "\n",
        "ax1 = d.plot(kind='scatter', x='Tming', y='Meta', color='r',s=[(i+3)*10 for i in d['Microsoft']])\n",
        "ax2 = d.plot(kind='scatter', x='Tming', y='Microsoft', color='g', ax=ax1)\n",
        "ax3 = d.plot(kind='scatter', x='Tming', y='Google', color='b', ax=ax1)\n",
        "print(ax1 == ax2 == ax3)"
      ],
      "metadata": {
        "id": "Nu2y-ZeZYixx"
      },
      "execution_count": null,
      "outputs": []
    },
    {
      "cell_type": "markdown",
      "source": [
        "BarPlot of Tech Giants"
      ],
      "metadata": {
        "id": "Bc8W7Fum95O1"
      }
    },
    {
      "cell_type": "code",
      "source": [
        "#plot=os.path.normpath('/content/drive/MyDrive/ACM/time.csv')\n",
        "#df=pd.read_csv(plot)\n",
        "df=pd.read_csv('time.csv')\n",
        "barWidth = 0.15\n",
        "fig = plt.subplots(figsize =(10, 4))\n",
        "\n",
        "# set height of bar\n",
        "# Set position of bar on X axis\n",
        "br1 = np.arange(len(df['Microsoft']))\n",
        "br2 = [x + barWidth for x in br1]\n",
        "br3 = [x + barWidth for x in br2]\n",
        "br4 = [x + barWidth for x in br3]\n",
        "\n",
        "# Make the plot\n",
        "plt.bar(br1,df['Microsoft'] , color ='r', width = barWidth,\n",
        "        edgecolor ='black', label ='Microsoft')\n",
        "plt.bar(br2, df['Meta'], color ='g', width = barWidth,\n",
        "        edgecolor ='black', label ='Meta')\n",
        "plt.bar(br3,df['Google'], color ='b', width = barWidth,\n",
        "        edgecolor ='black', label ='Google')\n",
        "plt.bar(br4,df['Tesla'], color ='y', width = barWidth,\n",
        "        edgecolor ='black', label ='Tesla')\n",
        "\n",
        "# Adding Xticks\n",
        "plt.xlabel('Time', fontweight ='bold', fontsize = 15)\n",
        "plt.ylabel('Total Posts', fontweight ='bold', fontsize = 15)\n",
        "plt.xticks([r + barWidth for r in range(6)],\n",
        "        [\"0000\",\"0400\",\"0800\",\"1200\",\"1600\",\"2000\"])\n",
        "\n",
        "plt.legend()\n",
        "plt.show()"
      ],
      "metadata": {
        "id": "7Jb6RAyR8IUb"
      },
      "execution_count": null,
      "outputs": []
    },
    {
      "cell_type": "markdown",
      "source": [
        "BarPlot of unicorn startups"
      ],
      "metadata": {
        "id": "TUQlrXRe-Avx"
      }
    },
    {
      "cell_type": "code",
      "source": [
        "\n",
        "df=pd.read_csv('time.csv')\n",
        "barWidth = 0.15\n",
        "fig = plt.subplots(figsize =(12, 8))\n",
        "\n",
        "# set height of bar\n",
        "# Set position of bar on X axis\n",
        "br5 = np.arange(len(df['Flipkart']))\n",
        "br6 = [x + barWidth for x in br5]\n",
        "br7 = [x + barWidth for x in br6]\n",
        "br8 = [x + barWidth for x in br7]\n",
        "\n",
        "# Make the plot\n",
        "plt.bar(br5,df['Flipkart'], color ='m', width = barWidth,\n",
        "        edgecolor ='black', label ='Flipkart')\n",
        "plt.bar(br6,df['Zomato'], color ='c', width = barWidth,\n",
        "        edgecolor ='black', label ='Zomato')\n",
        "plt.bar(br7,df['Paytm'], color ='k', width = barWidth,\n",
        "        edgecolor ='black', label ='Paytm')\n",
        "plt.bar(br8,df['Byjus'], color ='g', width = barWidth,\n",
        "        edgecolor ='black', label ='Byjus')\n",
        "\n",
        "# Adding Xticks\n",
        "plt.xlabel('Time', fontweight ='bold', fontsize = 15)\n",
        "plt.ylabel('Total Posts', fontweight ='bold', fontsize = 15)\n",
        "plt.xticks([r + barWidth for r in range(6)],\n",
        "        [\"0000\",\"0400\",\"0800\",\"1200\",\"1600\",\"2000\"])\n",
        "\n",
        "plt.legend()\n",
        "plt.show()"
      ],
      "metadata": {
        "id": "kpaH6hsh86Fw"
      },
      "execution_count": null,
      "outputs": []
    },
    {
      "cell_type": "markdown",
      "source": [
        "## **Sentimental analysis of the type of tweets the organisations post**"
      ],
      "metadata": {
        "id": "VoO-F_AnFKjq"
      }
    },
    {
      "cell_type": "code",
      "source": [
        "!pip install langdetect"
      ],
      "metadata": {
        "id": "ZAAZCwauFGyQ"
      },
      "execution_count": null,
      "outputs": []
    },
    {
      "cell_type": "code",
      "source": [
        "from textblob import TextBlob\n",
        "import sys\n",
        "import tweepy\n",
        "import matplotlib.pyplot as plt\n",
        "import pandas as pd\n",
        "import numpy as np\n",
        "import os\n",
        "import nltk\n",
        "nltk.download('vader_lexicon')\n",
        "#import pycountry\n",
        "import re\n",
        "import string\n",
        "from wordcloud import WordCloud, STOPWORDS\n",
        "from PIL import Image\n",
        "from nltk.sentiment.vader import SentimentIntensityAnalyzer\n",
        "from langdetect import detect\n",
        "from nltk.stem import SnowballStemmer\n",
        "from nltk.sentiment.vader import SentimentIntensityAnalyzer\n",
        "from sklearn.feature_extraction.text import CountVectorizer"
      ],
      "metadata": {
        "id": "xXIsHKi8F3GL"
      },
      "execution_count": null,
      "outputs": []
    },
    {
      "cell_type": "code",
      "source": [
        "google= pd.DataFrame(pd.read_csv(\"/content/drive/MyDrive/ACM/google_tweets.csv\"))\n",
        "#print(google.Tweet_text)\n",
        "\n",
        "\n",
        "positive = 0\n",
        "negative = 0\n",
        "neutral = 0\n",
        "polarity = 0\n",
        "tweet_list = []\n",
        "neutral_list = []\n",
        "negative_list = []\n",
        "positive_list = []\n",
        "noOfTweet= len(google)\n",
        "for tweet in google.Tweet_text:\n",
        "\n",
        " #print(tweet.text)\n",
        " #tweet_list.append(tweet.text)\n",
        " analysis = TextBlob(tweet)\n",
        " score = SentimentIntensityAnalyzer().polarity_scores(tweet)\n",
        " neg = score['neg']\n",
        " neu = score['neu']\n",
        " pos = score['pos']\n",
        " comp = score['compound']\n",
        " polarity += analysis.sentiment.polarity\n",
        "\n",
        " if neg > pos:\n",
        "   negative_list.append(tweet)\n",
        "   negative += 1\n",
        " elif pos > neg:\n",
        "    positive_list.append(tweet)\n",
        "    positive += 1\n",
        "\n",
        " elif pos == neg:\n",
        "  neutral_list.append(tweet)\n",
        "  neutral += 1\n",
        "positive = 100 * float(positive)/float(noOfTweet)\n",
        "negative = 100 * float(negative)/float(noOfTweet)\n",
        "neutral = 100 * float(neutral)/float(noOfTweet)\n",
        "polarity = 100 * float(polarity)/float(noOfTweet)\n",
        "positive = format(positive, '.1f')\n",
        "negative = format(negative, '.1f')\n",
        "neutral = format(neutral, '.1f')\n",
        "\n",
        "print(\"Positive: \",positive, \"Negative: \", negative,\"Neutral: \",neutral,\"Polarity: \",polarity)\n",
        "'''print(\"Positive list\")\n",
        "for i in positive_list:\n",
        "  print(i)\n",
        "print(\"negative list\")\n",
        "for i in negative_list:\n",
        "  print(i)\n",
        "print(\"neutral list\")\n",
        "for i in neutral_list:\n",
        "  print(i)'''\n",
        "\n",
        "labels = ['Positive ['+str(positive)+'%]' , 'Neutral ['+str(neutral)+'%]','Negative ['+str(negative)+'%]']\n",
        "plt.pie([positive,neutral,negative],wedgeprops = {\"edgecolor\" : \"black\",\n",
        "                      'linewidth': 2,\n",
        "                      'antialiased': True})\n",
        "plt.legend(labels)\n",
        "plt.show()"
      ],
      "metadata": {
        "id": "1780Qic2GBJh"
      },
      "execution_count": null,
      "outputs": []
    },
    {
      "cell_type": "code",
      "source": [
        "meta= pd.DataFrame(pd.read_csv(\"/content/drive/MyDrive/ACM/meta_tweets.csv\"))\n",
        "#print(meta.Tweet_text)\n",
        "\n",
        "\n",
        "positive = 0\n",
        "negative = 0\n",
        "neutral = 0\n",
        "polarity = 0\n",
        "tweet_list = []\n",
        "neutral_list = []\n",
        "negative_list = []\n",
        "positive_list = []\n",
        "noOfTweet= len(meta)\n",
        "for tweet in meta.Tweet_text:\n",
        "\n",
        " #print(tweet.text)\n",
        " #tweet_list.append(tweet.text)\n",
        " analysis = TextBlob(tweet)\n",
        " score = SentimentIntensityAnalyzer().polarity_scores(tweet)\n",
        " neg = score['neg']\n",
        " neu = score['neu']\n",
        " pos = score['pos']\n",
        " comp = score['compound']\n",
        " polarity += analysis.sentiment.polarity\n",
        "\n",
        " if neg > pos:\n",
        "   negative_list.append(tweet)\n",
        "   negative += 1\n",
        " elif pos > neg:\n",
        "    positive_list.append(tweet)\n",
        "    positive += 1\n",
        "\n",
        " elif pos == neg:\n",
        "  neutral_list.append(tweet)\n",
        "  neutral += 1\n",
        "positive = 100 * float(positive)/float(noOfTweet)\n",
        "negative = 100 * float(negative)/float(noOfTweet)\n",
        "neutral = 100 * float(neutral)/float(noOfTweet)\n",
        "polarity = 100 * float(polarity)/float(noOfTweet)\n",
        "positive = format(positive, '.1f')\n",
        "negative = format(negative, '.1f')\n",
        "neutral = format(neutral, '.1f')\n",
        "\n",
        "print(\"Positive:\",positive, \" Negative:\", negative,\" Neutral:\",neutral,\" Polarity:\",polarity)\n",
        "'''print(\"Positive list\")\n",
        "for i in positive_list:\n",
        "  print(i)\n",
        "print(\"negative list\")\n",
        "for i in negative_list:\n",
        "  print(i)\n",
        "print(\"neutral list\")\n",
        "for i in neutral_list:\n",
        "  print(i)'''\n",
        "\n",
        "labels = ['Positive ['+str(positive)+'%]' , 'Neutral ['+str(neutral)+'%]','Negative ['+str(negative)+'%]']\n",
        "colors = ['lightskyblue', 'pink', 'gold']\n",
        "plt.pie([positive,neutral,negative],colors=colors,wedgeprops = {\"edgecolor\" : \"black\",\n",
        "                      'linewidth': 2,\n",
        "                      'antialiased': True})\n",
        "plt.legend(labels)\n",
        "plt.show()"
      ],
      "metadata": {
        "id": "6VNw2gQqGGH4"
      },
      "execution_count": null,
      "outputs": []
    },
    {
      "cell_type": "code",
      "source": [
        "tesla= pd.DataFrame(pd.read_csv(\"/content/drive/MyDrive/ACM/tesla_tweets.csv\"))\n",
        "#print(tesla.Tweet_text)\n",
        "\n",
        "\n",
        "positive = 0\n",
        "negative = 0\n",
        "neutral = 0\n",
        "polarity = 0\n",
        "tweet_list = []\n",
        "neutral_list = []\n",
        "negative_list = []\n",
        "positive_list = []\n",
        "noOfTweet= len(tesla)\n",
        "for tweet in tesla.Tweet_text:\n",
        "\n",
        " #print(tweet.text)\n",
        " #tweet_list.append(tweet.text)\n",
        " analysis = TextBlob(tweet)\n",
        " score = SentimentIntensityAnalyzer().polarity_scores(tweet)\n",
        " neg = score['neg']\n",
        " neu = score['neu']\n",
        " pos = score['pos']\n",
        " comp = score['compound']\n",
        " polarity += analysis.sentiment.polarity\n",
        "\n",
        " if neg > pos:\n",
        "   negative_list.append(tweet)\n",
        "   negative += 1\n",
        " elif pos > neg:\n",
        "    positive_list.append(tweet)\n",
        "    positive += 1\n",
        "\n",
        " elif pos == neg:\n",
        "  neutral_list.append(tweet)\n",
        "  neutral += 1\n",
        "positive = 100 * float(positive)/float(noOfTweet)\n",
        "negative = 100 * float(negative)/float(noOfTweet)\n",
        "neutral = 100 * float(neutral)/float(noOfTweet)\n",
        "polarity = 100 * float(polarity)/float(noOfTweet)\n",
        "positive = format(positive, '.1f')\n",
        "negative = format(negative, '.1f')\n",
        "neutral = format(neutral, '.1f')\n",
        "\n",
        "print(\"Positive:\",positive, \" Negative:\", negative,\" Neutral:\",neutral,\" Polarity:\",polarity)\n",
        "'''print(\"Positive list\")\n",
        "for i in positive_list:\n",
        "  print(i)\n",
        "print(\"negative list\")\n",
        "for i in negative_list:\n",
        "  print(i)\n",
        "print(\"neutral list\")\n",
        "for i in neutral_list:\n",
        "  print(i)'''\n",
        "\n",
        "labels = ['Positive ['+str(positive)+'%]' , 'Neutral ['+str(neutral)+'%]','Negative ['+str(negative)+'%]']\n",
        "\n",
        "plt.pie([positive,neutral,negative])\n",
        "plt.legend(labels)\n",
        "plt.show()"
      ],
      "metadata": {
        "id": "7fmDjOjGGtAX"
      },
      "execution_count": null,
      "outputs": []
    },
    {
      "cell_type": "code",
      "source": [
        "microsoft= pd.DataFrame(pd.read_csv(\"/content/drive/MyDrive/ACM/microsoft_tweets.csv\"))\n",
        "#print(microsft.Tweet_text)\n",
        "\n",
        "\n",
        "positive = 0\n",
        "negative = 0\n",
        "neutral = 0\n",
        "polarity = 0\n",
        "tweet_list = []\n",
        "neutral_list = []\n",
        "negative_list = []\n",
        "positive_list = []\n",
        "noOfTweet= len(microsoft)\n",
        "for tweet in microsoft.Tweet_text:\n",
        "\n",
        " #print(tweet.text)\n",
        " #tweet_list.append(tweet.text)\n",
        " analysis = TextBlob(tweet)\n",
        " score = SentimentIntensityAnalyzer().polarity_scores(tweet)\n",
        " neg = score['neg']\n",
        " neu = score['neu']\n",
        " pos = score['pos']\n",
        " comp = score['compound']\n",
        " polarity += analysis.sentiment.polarity\n",
        "\n",
        " if neg > pos:\n",
        "   negative_list.append(tweet)\n",
        "   negative += 1\n",
        " elif pos > neg:\n",
        "    positive_list.append(tweet)\n",
        "    positive += 1\n",
        "\n",
        " elif pos == neg:\n",
        "  neutral_list.append(tweet)\n",
        "  neutral += 1\n",
        "positive = 100 * float(positive)/float(noOfTweet)\n",
        "negative = 100 * float(negative)/float(noOfTweet)\n",
        "neutral = 100 * float(neutral)/float(noOfTweet)\n",
        "polarity = 100 * float(polarity)/float(noOfTweet)\n",
        "positive = format(positive, '.1f')\n",
        "negative = format(negative, '.1f')\n",
        "neutral = format(neutral, '.1f')\n",
        "\n",
        "print(\"Positive:\",positive, \" Negative:\", negative,\" Neutral:\",neutral,\" Polarity:\",polarity)\n",
        "'''print(\"Positive list\")\n",
        "for i in positive_list:\n",
        "  print(i)\n",
        "print(\"negative list\")\n",
        "for i in negative_list:\n",
        "  print(i)\n",
        "print(\"neutral list\")\n",
        "for i in neutral_list:\n",
        "  print(i)'''\n",
        "\n",
        "labels = ['Positive ['+str(positive)+'%]' , 'Neutral ['+str(neutral)+'%]','Negative ['+str(negative)+'%]']\n",
        "colors = ['lightskyblue', 'pink', 'grey']\n",
        "plt.pie([positive,neutral,negative],colors=colors,wedgeprops = {\"edgecolor\" : \"black\",\n",
        "                      'linewidth': 2,\n",
        "                      'antialiased': True})\n",
        "plt.legend(labels)\n",
        "plt.show()"
      ],
      "metadata": {
        "id": "PIIQzIFVGJKH"
      },
      "execution_count": null,
      "outputs": []
    },
    {
      "cell_type": "code",
      "source": [
        "byjus= pd.DataFrame(pd.read_csv(\"/content/drive/MyDrive/ACM/byjus_tweets.csv\"))\n",
        "#print(byjus.Tweet_text)\n",
        "\n",
        "\n",
        "positive = 0\n",
        "negative = 0\n",
        "neutral = 0\n",
        "polarity = 0\n",
        "tweet_list = []\n",
        "neutral_list = []\n",
        "negative_list = []\n",
        "positive_list = []\n",
        "noOfTweet= len(byjus)\n",
        "for tweet in byjus.Tweet_text:\n",
        "\n",
        " #print(tweet.text)\n",
        " #tweet_list.append(tweet.text)\n",
        " analysis = TextBlob(tweet)\n",
        " score = SentimentIntensityAnalyzer().polarity_scores(tweet)\n",
        " neg = score['neg']\n",
        " neu = score['neu']\n",
        " pos = score['pos']\n",
        " comp = score['compound']\n",
        " polarity += analysis.sentiment.polarity\n",
        "\n",
        " if neg > pos:\n",
        "   negative_list.append(tweet)\n",
        "   negative += 1\n",
        " elif pos > neg:\n",
        "    positive_list.append(tweet)\n",
        "    positive += 1\n",
        "\n",
        " elif pos == neg:\n",
        "  neutral_list.append(tweet)\n",
        "  neutral += 1\n",
        "positive = 100 * float(positive)/float(noOfTweet)\n",
        "negative = 100 * float(negative)/float(noOfTweet)\n",
        "neutral = 100 * float(neutral)/float(noOfTweet)\n",
        "polarity = 100 * float(polarity)/float(noOfTweet)\n",
        "positive = format(positive, '.1f')\n",
        "negative = format(negative, '.1f')\n",
        "neutral = format(neutral, '.1f')\n",
        "\n",
        "print(\"Positive:\",positive, \" Negative:\", negative,\" Neutral:\",neutral,\" Polarity:\",polarity)\n",
        "'''print(\"Positive list\")\n",
        "for i in positive_list:\n",
        "  print(i)\n",
        "print(\"negative list\")\n",
        "for i in negative_list:\n",
        "  print(i)\n",
        "print(\"neutral list\")\n",
        "for i in neutral_list:\n",
        "  print(i)'''\n",
        "\n",
        "labels = ['Positive ['+str(positive)+'%]' , 'Neutral ['+str(neutral)+'%]','Negative ['+str(negative)+'%]']\n",
        "plt.pie([positive,neutral,negative],wedgeprops = {\"edgecolor\" : \"black\",\n",
        "                      'linewidth': 2,\n",
        "                      'antialiased': True})\n",
        "plt.legend(labels)\n",
        "plt.show()"
      ],
      "metadata": {
        "id": "sp-EqQrtG3lX"
      },
      "execution_count": null,
      "outputs": []
    },
    {
      "cell_type": "code",
      "source": [
        "flipkart= pd.DataFrame(pd.read_csv(\"/content/drive/MyDrive/ACM/flipkart_tweets.csv\"))\n",
        "#print(flipkart.Tweet_text)\n",
        "\n",
        "\n",
        "positive = 0\n",
        "negative = 0\n",
        "neutral = 0\n",
        "polarity = 0\n",
        "tweet_list = []\n",
        "neutral_list = []\n",
        "negative_list = []\n",
        "positive_list = []\n",
        "noOfTweet= len(flipkart)\n",
        "for tweet in flipkart.Tweet_text:\n",
        "\n",
        " #print(tweet.text)\n",
        " #tweet_list.append(tweet.text)\n",
        " analysis = TextBlob(tweet)\n",
        " score = SentimentIntensityAnalyzer().polarity_scores(tweet)\n",
        " neg = score['neg']\n",
        " neu = score['neu']\n",
        " pos = score['pos']\n",
        " comp = score['compound']\n",
        " polarity += analysis.sentiment.polarity\n",
        "\n",
        " if neg > pos:\n",
        "   negative_list.append(tweet)\n",
        "   negative += 1\n",
        " elif pos > neg:\n",
        "    positive_list.append(tweet)\n",
        "    positive += 1\n",
        "\n",
        " elif pos == neg:\n",
        "  neutral_list.append(tweet)\n",
        "  neutral += 1\n",
        "positive = 100 * float(positive)/float(noOfTweet)\n",
        "negative = 100 * float(negative)/float(noOfTweet)\n",
        "neutral = 100 * float(neutral)/float(noOfTweet)\n",
        "polarity = 100 * float(polarity)/float(noOfTweet)\n",
        "positive = format(positive, '.1f')\n",
        "negative = format(negative, '.1f')\n",
        "neutral = format(neutral, '.1f')\n",
        "\n",
        "print(\"Positive:\",positive, \" Negative:\", negative,\" Neutral:\",neutral,\" Polarity:\",polarity)\n",
        "'''print(\"Positive list\")\n",
        "for i in positive_list:\n",
        "  print(i)\n",
        "print(\"negative list\")\n",
        "for i in negative_list:\n",
        "  print(i)\n",
        "print(\"neutral list\")\n",
        "for i in neutral_list:\n",
        "  print(i)'''\n",
        "\n",
        "labels = ['Positive ['+str(positive)+'%]' , 'Neutral ['+str(neutral)+'%]','Negative ['+str(negative)+'%]']\n",
        "colors = ['lightskyblue', 'pink', 'grey']\n",
        "plt.pie([positive,neutral,negative],colors=colors,wedgeprops = {\"edgecolor\" : \"black\",\n",
        "                      'linewidth': 2,\n",
        "                      'antialiased': True})\n",
        "plt.legend(labels)\n",
        "plt.show()"
      ],
      "metadata": {
        "id": "QsIzfMGKHCLW"
      },
      "execution_count": null,
      "outputs": []
    },
    {
      "cell_type": "code",
      "source": [
        "paytm= pd.DataFrame(pd.read_csv(\"/content/drive/MyDrive/ACM/paytm_tweets.csv\"))\n",
        "#print(paytm.Tweet_text)\n",
        "\n",
        "\n",
        "positive = 0\n",
        "negative = 0\n",
        "neutral = 0\n",
        "polarity = 0\n",
        "tweet_list = []\n",
        "neutral_list = []\n",
        "negative_list = []\n",
        "positive_list = []\n",
        "noOfTweet= len(paytm)\n",
        "for tweet in paytm.Tweet_text:\n",
        "\n",
        " #print(tweet.text)\n",
        " #tweet_list.append(tweet.text)\n",
        " analysis = TextBlob(tweet)\n",
        " score = SentimentIntensityAnalyzer().polarity_scores(tweet)\n",
        " neg = score['neg']\n",
        " neu = score['neu']\n",
        " pos = score['pos']\n",
        " comp = score['compound']\n",
        " polarity += analysis.sentiment.polarity\n",
        "\n",
        " if neg > pos:\n",
        "   negative_list.append(tweet)\n",
        "   negative += 1\n",
        " elif pos > neg:\n",
        "    positive_list.append(tweet)\n",
        "    positive += 1\n",
        "\n",
        " elif pos == neg:\n",
        "  neutral_list.append(tweet)\n",
        "  neutral += 1\n",
        "positive = 100 * float(positive)/float(noOfTweet)\n",
        "negative = 100 * float(negative)/float(noOfTweet)\n",
        "neutral = 100 * float(neutral)/float(noOfTweet)\n",
        "polarity = 100 * float(polarity)/float(noOfTweet)\n",
        "positive = format(positive, '.1f')\n",
        "negative = format(negative, '.1f')\n",
        "neutral = format(neutral, '.1f')\n",
        "\n",
        "print(\"Positive:\",positive, \" Negative:\", negative,\" Neutral:\",neutral,\" Polarity:\",polarity)\n",
        "'''print(\"Positive list\")\n",
        "for i in positive_list:\n",
        "  print(i)\n",
        "print(\"negative list\")\n",
        "for i in negative_list:\n",
        "  print(i)\n",
        "print(\"neutral list\")\n",
        "for i in neutral_list:\n",
        "  print(i)'''\n",
        "\n",
        "labels = ['Positive ['+str(positive)+'%]' , 'Neutral ['+str(neutral)+'%]','Negative ['+str(negative)+'%]']\n",
        "colors = ['lightskyblue', 'pink', 'gold']\n",
        "plt.pie([positive,neutral,negative],colors=colors,wedgeprops = {\"edgecolor\" : \"black\",\n",
        "                      'linewidth': 2,\n",
        "                      'antialiased': True})\n",
        "plt.legend(labels)\n",
        "plt.show()"
      ],
      "metadata": {
        "id": "eD7NHoZfHDUI"
      },
      "execution_count": null,
      "outputs": []
    },
    {
      "cell_type": "code",
      "source": [
        "zomato= pd.DataFrame(pd.read_csv(\"/content/drive/MyDrive/ACM/zomato_tweets.csv\"))\n",
        "#print(zomato.Tweet_text)\n",
        "\n",
        "\n",
        "positive = 0\n",
        "negative = 0\n",
        "neutral = 0\n",
        "polarity = 0\n",
        "tweet_list = []\n",
        "neutral_list = []\n",
        "negative_list = []\n",
        "positive_list = []\n",
        "noOfTweet= len(zomato)\n",
        "for tweet in zomato.Tweet_text:\n",
        "\n",
        " #print(tweet.text)\n",
        " #tweet_list.append(tweet.text)\n",
        " analysis = TextBlob(tweet)\n",
        " score = SentimentIntensityAnalyzer().polarity_scores(tweet)\n",
        " neg = score['neg']\n",
        " neu = score['neu']\n",
        " pos = score['pos']\n",
        " comp = score['compound']\n",
        " polarity += analysis.sentiment.polarity\n",
        "\n",
        " if neg > pos:\n",
        "   negative_list.append(tweet)\n",
        "   negative += 1\n",
        " elif pos > neg:\n",
        "    positive_list.append(tweet)\n",
        "    positive += 1\n",
        "\n",
        " elif pos == neg:\n",
        "  neutral_list.append(tweet)\n",
        "  neutral += 1\n",
        "positive = 100 * float(positive)/float(noOfTweet)\n",
        "negative = 100 * float(negative)/float(noOfTweet)\n",
        "neutral = 100 * float(neutral)/float(noOfTweet)\n",
        "polarity = 100 * float(polarity)/float(noOfTweet)\n",
        "positive = format(positive, '.1f')\n",
        "negative = format(negative, '.1f')\n",
        "neutral = format(neutral, '.1f')\n",
        "\n",
        "print(\"Positive:\",positive, \" Negative:\", negative,\" Neutral:\",neutral,\" Polarity:\",polarity)\n",
        "'''print(\"Positive list\")\n",
        "for i in positive_list:\n",
        "  print(i)\n",
        "print(\"negative list\")\n",
        "for i in negative_list:\n",
        "  print(i)\n",
        "print(\"neutral list\")\n",
        "for i in neutral_list:\n",
        "  print(i)'''\n",
        "\n",
        "labels = ['Positive ['+str(positive)+'%]' , 'Neutral ['+str(neutral)+'%]','Negative ['+str(negative)+'%]']\n",
        "plt.pie([positive,neutral,negative],wedgeprops = {\"edgecolor\" : \"black\",\n",
        "                      'linewidth': 2,\n",
        "                      'antialiased': True})\n",
        "plt.legend(labels)\n",
        "plt.show()"
      ],
      "metadata": {
        "id": "5SUP-GHPHH7Z"
      },
      "execution_count": null,
      "outputs": []
    },
    {
      "cell_type": "code",
      "source": [],
      "metadata": {
        "id": "Shb12E2DRpim"
      },
      "execution_count": null,
      "outputs": []
    }
  ]
}